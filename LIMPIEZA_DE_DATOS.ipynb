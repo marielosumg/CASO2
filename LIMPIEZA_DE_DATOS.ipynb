{
  "nbformat": 4,
  "nbformat_minor": 0,
  "metadata": {
    "colab": {
      "provenance": [],
      "authorship_tag": "ABX9TyPUsgq7K9f18TkzQCoP+yr9",
      "include_colab_link": true
    },
    "kernelspec": {
      "name": "ir",
      "display_name": "R"
    },
    "language_info": {
      "name": "R"
    }
  },
  "cells": [
    {
      "cell_type": "markdown",
      "metadata": {
        "id": "view-in-github",
        "colab_type": "text"
      },
      "source": [
        "<a href=\"https://colab.research.google.com/github/LesG016/Caso-no.-2/blob/main/LIMPIEZA_DE_DATOS.ipynb\" target=\"_parent\"><img src=\"https://colab.research.google.com/assets/colab-badge.svg\" alt=\"Open In Colab\"/></a>"
      ]
    },
    {
      "cell_type": "code",
      "source": [
        "#Instalar librería y base de datos\n",
        "install.packages(\"readxl\")\n",
        "library(readxl)\n",
        "df <- read_excel(\"/content/myData1.xlsx\")"
      ],
      "metadata": {
        "colab": {
          "base_uri": "https://localhost:8080/"
        },
        "id": "s2RQ9Qt5TWmZ",
        "outputId": "bad25854-088f-4887-fd57-1bb6e167407d"
      },
      "execution_count": null,
      "outputs": [
        {
          "output_type": "stream",
          "name": "stderr",
          "text": [
            "Installing package into ‘/usr/local/lib/R/site-library’\n",
            "(as ‘lib’ is unspecified)\n",
            "\n",
            "\u001b[1m\u001b[22mNew names:\n",
            "\u001b[36m•\u001b[39m `` -> `...1`\n"
          ]
        }
      ]
    },
    {
      "cell_type": "code",
      "source": [
        "# Usar file.choose() para seleccionar el archivo de Excel desde tu sistema\n",
        "file <- file.choose()\n",
        "print(file)"
      ],
      "metadata": {
        "colab": {
          "base_uri": "https://localhost:8080/"
        },
        "id": "8TncZtZ7XYGU",
        "outputId": "eaaa6a7c-85be-4876-9cda-9def1cbc84a2"
      },
      "execution_count": null,
      "outputs": [
        {
          "output_type": "stream",
          "name": "stdout",
          "text": [
            "[1] \"p\\x80{\\x9c\\xe7\\\\\"\n"
          ]
        }
      ]
    },
    {
      "cell_type": "code",
      "source": [
        "# Instalar el paquete readxl (solo es necesario la primera vez)\n",
        "install.packages(\"readxl\")\n",
        "# Cargar el paquete readxl\n",
        "library(readxl)"
      ],
      "metadata": {
        "colab": {
          "base_uri": "https://localhost:8080/"
        },
        "id": "MZDaFqK_YfA3",
        "outputId": "e31e650b-d4c1-4543-a0c8-fa284046c920"
      },
      "execution_count": null,
      "outputs": [
        {
          "output_type": "stream",
          "name": "stderr",
          "text": [
            "Installing package into ‘/usr/local/lib/R/site-library’\n",
            "(as ‘lib’ is unspecified)\n",
            "\n"
          ]
        }
      ]
    },
    {
      "cell_type": "code",
      "source": [
        "# Especifica el nombre del archivo subido\n",
        "archivo <- \"myData1.xlsx\""
      ],
      "metadata": {
        "id": "wCFgkWXPYy5G"
      },
      "execution_count": null,
      "outputs": []
    },
    {
      "cell_type": "code",
      "source": [
        "# Lee el archivo de Excel\n",
        "datos <- read_excel(archivo)"
      ],
      "metadata": {
        "colab": {
          "base_uri": "https://localhost:8080/"
        },
        "id": "5tmoCIsvZKUh",
        "outputId": "7c05a5dd-396e-4af0-fa08-584c50d2c95b"
      },
      "execution_count": null,
      "outputs": [
        {
          "output_type": "stream",
          "name": "stderr",
          "text": [
            "\u001b[1m\u001b[22mNew names:\n",
            "\u001b[36m•\u001b[39m `` -> `...1`\n"
          ]
        }
      ]
    },
    {
      "cell_type": "code",
      "source": [
        "# Muestra el contenido del archivo\n",
        "print(datos)"
      ],
      "metadata": {
        "colab": {
          "base_uri": "https://localhost:8080/"
        },
        "id": "8l7xsLIWZQXF",
        "outputId": "4aa43e31-1583-4edf-af84-f07f0655fd78"
      },
      "execution_count": null,
      "outputs": [
        {
          "output_type": "stream",
          "name": "stdout",
          "text": [
            "\u001b[90m# A tibble: 732 × 15\u001b[39m\n",
            "    ...1 `Unnamed: 0` Text          Sentiment Timestamp           User  Platform\n",
            "   \u001b[3m\u001b[90m<dbl>\u001b[39m\u001b[23m        \u001b[3m\u001b[90m<dbl>\u001b[39m\u001b[23m \u001b[3m\u001b[90m<chr>\u001b[39m\u001b[23m         \u001b[3m\u001b[90m<chr>\u001b[39m\u001b[23m     \u001b[3m\u001b[90m<dttm>\u001b[39m\u001b[23m              \u001b[3m\u001b[90m<chr>\u001b[39m\u001b[23m \u001b[3m\u001b[90m<chr>\u001b[39m\u001b[23m   \n",
            "\u001b[90m 1\u001b[39m     0            0 Enjoying a b… Positive  2023-01-15 \u001b[90m12:30:00\u001b[39m User… Twitter \n",
            "\u001b[90m 2\u001b[39m     1            1 Traffic was … Negative  2023-01-15 \u001b[90m08:45:00\u001b[39m Comm… Twitter \n",
            "\u001b[90m 3\u001b[39m     2            2 Just finishe… Positive  2023-01-15 \u001b[90m15:45:00\u001b[39m Fitn… Instagr…\n",
            "\u001b[90m 4\u001b[39m     3            3 Excited abou… Positive  2023-01-15 \u001b[90m18:20:00\u001b[39m Adve… Facebook\n",
            "\u001b[90m 5\u001b[39m     4            4 Trying out a… Neutral   2023-01-15 \u001b[90m19:55:00\u001b[39m Chef… Instagr…\n",
            "\u001b[90m 6\u001b[39m     5            5 Feeling grat… Positive  2023-01-16 \u001b[90m09:10:00\u001b[39m Grat… Twitter \n",
            "\u001b[90m 7\u001b[39m     6            6 Rainy days c… Positive  2023-01-16 \u001b[90m14:45:00\u001b[39m Rain… Facebook\n",
            "\u001b[90m 8\u001b[39m     7            7 The new movi… Positive  2023-01-16 \u001b[90m19:30:00\u001b[39m Movi… Instagr…\n",
            "\u001b[90m 9\u001b[39m     8            8 Political di… Negative  2023-01-17 \u001b[90m08:00:00\u001b[39m Deba… Twitter \n",
            "\u001b[90m10\u001b[39m     9            9 Missing summ… Neutral   2023-01-17 \u001b[90m12:20:00\u001b[39m Beac… Facebook\n",
            "\u001b[90m# ℹ 722 more rows\u001b[39m\n",
            "\u001b[90m# ℹ 8 more variables: Hashtags <chr>, Retweets <dbl>, Likes <dbl>,\u001b[39m\n",
            "\u001b[90m#   Country <chr>, Year <dbl>, Month <dbl>, Day <dbl>, Hour <dbl>\u001b[39m\n"
          ]
        }
      ]
    },
    {
      "cell_type": "code",
      "source": [
        "#Determinar datos atípicos\n",
        "boxplot(datos$Retweets, datos$Likes, main=\"Boxplots for Retweets and Likes\", xlab=\"Annual\", names=c(\"Retweets\", \"Likes\"), horizontal = TRUE, col=\"pink\")"
      ],
      "metadata": {
        "colab": {
          "base_uri": "https://localhost:8080/",
          "height": 437
        },
        "id": "JvGPK2piZf9a",
        "outputId": "1c596297-c4e3-4f05-b63e-7c1925e64ed1"
      },
      "execution_count": null,
      "outputs": [
        {
          "output_type": "display_data",
          "data": {
            "text/plain": [
              "Plot with title “Boxplots for Retweets and Likes”"
            ],
            "image/png": "[encoded data removed]"
          },
          "metadata": {
            "image/png": {
              "width": 420,
              "height": 420
            }
          }
        }
      ]
    },
    {
      "cell_type": "code",
      "source": [
        "#reemplazo de datos atípicos\n",
        "boxplot(datos$Retweets, datos$Likes, main=\"Boxplots for Retweets and Likes\", xlab=\"Annual\", names=c(\"Retweets\", \"Likes\"), horizontal = TRUE, col=\"pink\", range=0)"
      ],
      "metadata": {
        "colab": {
          "base_uri": "https://localhost:8080/",
          "height": 437
        },
        "id": "MlRbcG_0adYi",
        "outputId": "0d75195e-3e8c-4a58-d129-5f8ae7f60793"
      },
      "execution_count": null,
      "outputs": [
        {
          "output_type": "display_data",
          "data": {
            "text/plain": [
              "Plot with title “Boxplots for Retweets and Likes”"
            ],
            "image/png": "[encoded data removed]"
          },
          "metadata": {
            "image/png": {
              "width": 420,
              "height": 420
            }
          }
        }
      ]
    },
    {
      "cell_type": "code",
      "source": [
        "#VALORES NULOS\n",
        "is.na(datos$Sentiment)"
      ],
      "metadata": {
        "colab": {
          "base_uri": "https://localhost:8080/",
          "height": 659
        },
        "id": "pZ6b2InjbEkj",
        "outputId": "715b7d8b-dd05-4635-89ef-f534918159a2"
      },
      "execution_count": null,
      "outputs": [
        {
          "output_type": "display_data",
          "data": {
            "text/html": [
              "<style>\n",
              ".list-inline {list-style: none; margin:0; padding: 0}\n",
              ".list-inline>li {display: inline-block}\n",
              ".list-inline>li:not(:last-child)::after {content: \"\\00b7\"; padding: 0 .5ex}\n",
              "</style>\n",
              "<ol class=list-inline><li>FALSE</li><li>FALSE</li><li>FALSE</li><li>FALSE</li><li>FALSE</li><li>FALSE</li><li>FALSE</li><li>FALSE</li><li>FALSE</li><li>FALSE</li><li>FALSE</li><li>FALSE</li><li>FALSE</li><li>FALSE</li><li>FALSE</li><li>FALSE</li><li>FALSE</li><li>FALSE</li><li>FALSE</li><li>FALSE</li><li>FALSE</li><li>FALSE</li><li>FALSE</li><li>FALSE</li><li>FALSE</li><li>FALSE</li><li>FALSE</li><li>FALSE</li><li>FALSE</li><li>FALSE</li><li>FALSE</li><li>FALSE</li><li>FALSE</li><li>FALSE</li><li>FALSE</li><li>FALSE</li><li>FALSE</li><li>FALSE</li><li>FALSE</li><li>FALSE</li><li>FALSE</li><li>FALSE</li><li>FALSE</li><li>FALSE</li><li>FALSE</li><li>FALSE</li><li>FALSE</li><li>FALSE</li><li>FALSE</li><li>FALSE</li><li>FALSE</li><li>FALSE</li><li>FALSE</li><li>FALSE</li><li>FALSE</li><li>FALSE</li><li>FALSE</li><li>FALSE</li><li>FALSE</li><li>FALSE</li><li>FALSE</li><li>FALSE</li><li>FALSE</li><li>FALSE</li><li>FALSE</li><li>FALSE</li><li>FALSE</li><li>FALSE</li><li>FALSE</li><li>FALSE</li><li>FALSE</li><li>FALSE</li><li>FALSE</li><li>FALSE</li><li>FALSE</li><li>FALSE</li><li>FALSE</li><li>FALSE</li><li>FALSE</li><li>FALSE</li><li>FALSE</li><li>FALSE</li><li>FALSE</li><li>FALSE</li><li>FALSE</li><li>FALSE</li><li>FALSE</li><li>FALSE</li><li>FALSE</li><li>FALSE</li><li>FALSE</li><li>FALSE</li><li>FALSE</li><li>FALSE</li><li>FALSE</li><li>FALSE</li><li>FALSE</li><li>FALSE</li><li>FALSE</li><li>FALSE</li><li>FALSE</li><li>FALSE</li><li>FALSE</li><li>FALSE</li><li>FALSE</li><li>FALSE</li><li>FALSE</li><li>FALSE</li><li>FALSE</li><li>FALSE</li><li>FALSE</li><li>FALSE</li><li>FALSE</li><li>FALSE</li><li>FALSE</li><li>FALSE</li><li>FALSE</li><li>FALSE</li><li>FALSE</li><li>FALSE</li><li>FALSE</li><li>FALSE</li><li>FALSE</li><li>FALSE</li><li>FALSE</li><li>FALSE</li><li>FALSE</li><li>FALSE</li><li>FALSE</li><li>FALSE</li><li>FALSE</li><li>FALSE</li><li>FALSE</li><li>FALSE</li><li>FALSE</li><li>FALSE</li><li>FALSE</li><li>FALSE</li><li>FALSE</li><li>FALSE</li><li>FALSE</li><li>FALSE</li><li>FALSE</li><li>FALSE</li><li>FALSE</li><li>FALSE</li><li>FALSE</li><li>FALSE</li><li>FALSE</li><li>FALSE</li><li>FALSE</li><li>FALSE</li><li>FALSE</li><li>FALSE</li><li>FALSE</li><li>FALSE</li><li>FALSE</li><li>FALSE</li><li>FALSE</li><li>FALSE</li><li>FALSE</li><li>FALSE</li><li>FALSE</li><li>FALSE</li><li>FALSE</li><li>FALSE</li><li>FALSE</li><li>FALSE</li><li>FALSE</li><li>FALSE</li><li>FALSE</li><li>FALSE</li><li>FALSE</li><li>FALSE</li><li>FALSE</li><li>FALSE</li><li>FALSE</li><li>FALSE</li><li>FALSE</li><li>FALSE</li><li>FALSE</li><li>FALSE</li><li>FALSE</li><li>FALSE</li><li>FALSE</li><li>FALSE</li><li>FALSE</li><li>FALSE</li><li>FALSE</li><li>FALSE</li><li>FALSE</li><li>FALSE</li><li>FALSE</li><li>FALSE</li><li>FALSE</li><li>FALSE</li><li>FALSE</li><li>FALSE</li><li>FALSE</li><li>FALSE</li><li>⋯</li><li>FALSE</li><li>FALSE</li><li>FALSE</li><li>FALSE</li><li>FALSE</li><li>FALSE</li><li>FALSE</li><li>FALSE</li><li>FALSE</li><li>FALSE</li><li>FALSE</li><li>FALSE</li><li>FALSE</li><li>FALSE</li><li>FALSE</li><li>FALSE</li><li>FALSE</li><li>FALSE</li><li>FALSE</li><li>FALSE</li><li>FALSE</li><li>FALSE</li><li>FALSE</li><li>FALSE</li><li>FALSE</li><li>FALSE</li><li>FALSE</li><li>FALSE</li><li>FALSE</li><li>FALSE</li><li>FALSE</li><li>FALSE</li><li>FALSE</li><li>FALSE</li><li>FALSE</li><li>FALSE</li><li>FALSE</li><li>FALSE</li><li>FALSE</li><li>FALSE</li><li>FALSE</li><li>FALSE</li><li>FALSE</li><li>FALSE</li><li>FALSE</li><li>FALSE</li><li>FALSE</li><li>FALSE</li><li>FALSE</li><li>FALSE</li><li>FALSE</li><li>FALSE</li><li>FALSE</li><li>FALSE</li><li>FALSE</li><li>FALSE</li><li>FALSE</li><li>FALSE</li><li>FALSE</li><li>FALSE</li><li>FALSE</li><li>FALSE</li><li>FALSE</li><li>FALSE</li><li>FALSE</li><li>FALSE</li><li>FALSE</li><li>FALSE</li><li>FALSE</li><li>FALSE</li><li>FALSE</li><li>FALSE</li><li>FALSE</li><li>FALSE</li><li>FALSE</li><li>FALSE</li><li>FALSE</li><li>FALSE</li><li>FALSE</li><li>FALSE</li><li>FALSE</li><li>FALSE</li><li>FALSE</li><li>FALSE</li><li>FALSE</li><li>FALSE</li><li>FALSE</li><li>FALSE</li><li>FALSE</li><li>FALSE</li><li>FALSE</li><li>FALSE</li><li>FALSE</li><li>FALSE</li><li>FALSE</li><li>FALSE</li><li>FALSE</li><li>FALSE</li><li>FALSE</li><li>FALSE</li><li>FALSE</li><li>FALSE</li><li>FALSE</li><li>FALSE</li><li>FALSE</li><li>FALSE</li><li>FALSE</li><li>FALSE</li><li>FALSE</li><li>FALSE</li><li>FALSE</li><li>FALSE</li><li>FALSE</li><li>FALSE</li><li>FALSE</li><li>FALSE</li><li>FALSE</li><li>FALSE</li><li>FALSE</li><li>FALSE</li><li>FALSE</li><li>FALSE</li><li>FALSE</li><li>FALSE</li><li>FALSE</li><li>FALSE</li><li>FALSE</li><li>FALSE</li><li>FALSE</li><li>FALSE</li><li>FALSE</li><li>FALSE</li><li>FALSE</li><li>FALSE</li><li>FALSE</li><li>FALSE</li><li>FALSE</li><li>FALSE</li><li>FALSE</li><li>FALSE</li><li>FALSE</li><li>FALSE</li><li>FALSE</li><li>FALSE</li><li>FALSE</li><li>FALSE</li><li>FALSE</li><li>FALSE</li><li>FALSE</li><li>FALSE</li><li>FALSE</li><li>FALSE</li><li>FALSE</li><li>FALSE</li><li>FALSE</li><li>FALSE</li><li>FALSE</li><li>FALSE</li><li>FALSE</li><li>FALSE</li><li>FALSE</li><li>FALSE</li><li>FALSE</li><li>FALSE</li><li>FALSE</li><li>FALSE</li><li>FALSE</li><li>FALSE</li><li>FALSE</li><li>FALSE</li><li>FALSE</li><li>FALSE</li><li>FALSE</li><li>FALSE</li><li>FALSE</li><li>FALSE</li><li>FALSE</li><li>FALSE</li><li>FALSE</li><li>FALSE</li><li>FALSE</li><li>FALSE</li><li>FALSE</li><li>FALSE</li><li>FALSE</li><li>FALSE</li><li>FALSE</li><li>FALSE</li><li>FALSE</li><li>FALSE</li><li>FALSE</li><li>FALSE</li><li>FALSE</li><li>FALSE</li><li>FALSE</li><li>FALSE</li><li>FALSE</li><li>FALSE</li><li>FALSE</li><li>FALSE</li></ol>\n"
            ],
            "text/markdown": "1. FALSE\n2. FALSE\n3. FALSE\n4. FALSE\n5. FALSE\n6. FALSE\n7. FALSE\n8. FALSE\n9. FALSE\n10. FALSE\n11. FALSE\n12. FALSE\n13. FALSE\n14. FALSE\n15. FALSE\n16. FALSE\n17. FALSE\n18. FALSE\n19. FALSE\n20. FALSE\n21. FALSE\n22. FALSE\n23. FALSE\n24. FALSE\n25. FALSE\n26. FALSE\n27. FALSE\n28. FALSE\n29. FALSE\n30. FALSE\n31. FALSE\n32. FALSE\n33. FALSE\n34. FALSE\n35. FALSE\n36. FALSE\n37. FALSE\n38. FALSE\n39. FALSE\n40. FALSE\n41. FALSE\n42. FALSE\n43. FALSE\n44. FALSE\n45. FALSE\n46. FALSE\n47. FALSE\n48. FALSE\n49. FALSE\n50. FALSE\n51. FALSE\n52. FALSE\n53. FALSE\n54. FALSE\n55. FALSE\n56. FALSE\n57. FALSE\n58. FALSE\n59. FALSE\n60. FALSE\n61. FALSE\n62. FALSE\n63. FALSE\n64. FALSE\n65. FALSE\n66. FALSE\n67. FALSE\n68. FALSE\n69. FALSE\n70. FALSE\n71. FALSE\n72. FALSE\n73. FALSE\n74. FALSE\n75. FALSE\n76. FALSE\n77. FALSE\n78. FALSE\n79. FALSE\n80. FALSE\n81. FALSE\n82. FALSE\n83. FALSE\n84. FALSE\n85. FALSE\n86. FALSE\n87. FALSE\n88. FALSE\n89. FALSE\n90. FALSE\n91. FALSE\n92. FALSE\n93. FALSE\n94. FALSE\n95. FALSE\n96. FALSE\n97. FALSE\n98. FALSE\n99. FALSE\n100. FALSE\n101. FALSE\n102. FALSE\n103. FALSE\n104. FALSE\n105. FALSE\n106. FALSE\n107. FALSE\n108. FALSE\n109. FALSE\n110. FALSE\n111. FALSE\n112. FALSE\n113. FALSE\n114. FALSE\n115. FALSE\n116. FALSE\n117. FALSE\n118. FALSE\n119. FALSE\n120. FALSE\n121. FALSE\n122. FALSE\n123. FALSE\n124. FALSE\n125. FALSE\n126. FALSE\n127. FALSE\n128. FALSE\n129. FALSE\n130. FALSE\n131. FALSE\n132. FALSE\n133. FALSE\n134. FALSE\n135. FALSE\n136. FALSE\n137. FALSE\n138. FALSE\n139. FALSE\n140. FALSE\n141. FALSE\n142. FALSE\n143. FALSE\n144. FALSE\n145. FALSE\n146. FALSE\n147. FALSE\n148. FALSE\n149. FALSE\n150. FALSE\n151. FALSE\n152. FALSE\n153. FALSE\n154. FALSE\n155. FALSE\n156. FALSE\n157. FALSE\n158. FALSE\n159. FALSE\n160. FALSE\n161. FALSE\n162. FALSE\n163. FALSE\n164. FALSE\n165. FALSE\n166. FALSE\n167. FALSE\n168. FALSE\n169. FALSE\n170. FALSE\n171. FALSE\n172. FALSE\n173. FALSE\n174. FALSE\n175. FALSE\n176. FALSE\n177. FALSE\n178. FALSE\n179. FALSE\n180. FALSE\n181. FALSE\n182. FALSE\n183. FALSE\n184. FALSE\n185. FALSE\n186. FALSE\n187. FALSE\n188. FALSE\n189. FALSE\n190. FALSE\n191. FALSE\n192. FALSE\n193. FALSE\n194. FALSE\n195. FALSE\n196. FALSE\n197. FALSE\n198. FALSE\n199. FALSE\n200. FALSE\n201. ⋯\n202. FALSE\n203. FALSE\n204. FALSE\n205. FALSE\n206. FALSE\n207. FALSE\n208. FALSE\n209. FALSE\n210. FALSE\n211. FALSE\n212. FALSE\n213. FALSE\n214. FALSE\n215. FALSE\n216. FALSE\n217. FALSE\n218. FALSE\n219. FALSE\n220. FALSE\n221. FALSE\n222. FALSE\n223. FALSE\n224. FALSE\n225. FALSE\n226. FALSE\n227. FALSE\n228. FALSE\n229. FALSE\n230. FALSE\n231. FALSE\n232. FALSE\n233. FALSE\n234. FALSE\n235. FALSE\n236. FALSE\n237. FALSE\n238. FALSE\n239. FALSE\n240. FALSE\n241. FALSE\n242. FALSE\n243. FALSE\n244. FALSE\n245. FALSE\n246. FALSE\n247. FALSE\n248. FALSE\n249. FALSE\n250. FALSE\n251. FALSE\n252. FALSE\n253. FALSE\n254. FALSE\n255. FALSE\n256. FALSE\n257. FALSE\n258. FALSE\n259. FALSE\n260. FALSE\n261. FALSE\n262. FALSE\n263. FALSE\n264. FALSE\n265. FALSE\n266. FALSE\n267. FALSE\n268. FALSE\n269. FALSE\n270. FALSE\n271. FALSE\n272. FALSE\n273. FALSE\n274. FALSE\n275. FALSE\n276. FALSE\n277. FALSE\n278. FALSE\n279. FALSE\n280. FALSE\n281. FALSE\n282. FALSE\n283. FALSE\n284. FALSE\n285. FALSE\n286. FALSE\n287. FALSE\n288. FALSE\n289. FALSE\n290. FALSE\n291. FALSE\n292. FALSE\n293. FALSE\n294. FALSE\n295. FALSE\n296. FALSE\n297. FALSE\n298. FALSE\n299. FALSE\n300. FALSE\n301. FALSE\n302. FALSE\n303. FALSE\n304. FALSE\n305. FALSE\n306. FALSE\n307. FALSE\n308. FALSE\n309. FALSE\n310. FALSE\n311. FALSE\n312. FALSE\n313. FALSE\n314. FALSE\n315. FALSE\n316. FALSE\n317. FALSE\n318. FALSE\n319. FALSE\n320. FALSE\n321. FALSE\n322. FALSE\n323. FALSE\n324. FALSE\n325. FALSE\n326. FALSE\n327. FALSE\n328. FALSE\n329. FALSE\n330. FALSE\n331. FALSE\n332. FALSE\n333. FALSE\n334. FALSE\n335. FALSE\n336. FALSE\n337. FALSE\n338. FALSE\n339. FALSE\n340. FALSE\n341. FALSE\n342. FALSE\n343. FALSE\n344. FALSE\n345. FALSE\n346. FALSE\n347. FALSE\n348. FALSE\n349. FALSE\n350. FALSE\n351. FALSE\n352. FALSE\n353. FALSE\n354. FALSE\n355. FALSE\n356. FALSE\n357. FALSE\n358. FALSE\n359. FALSE\n360. FALSE\n361. FALSE\n362. FALSE\n363. FALSE\n364. FALSE\n365. FALSE\n366. FALSE\n367. FALSE\n368. FALSE\n369. FALSE\n370. FALSE\n371. FALSE\n372. FALSE\n373. FALSE\n374. FALSE\n375. FALSE\n376. FALSE\n377. FALSE\n378. FALSE\n379. FALSE\n380. FALSE\n381. FALSE\n382. FALSE\n383. FALSE\n384. FALSE\n385. FALSE\n386. FALSE\n387. FALSE\n388. FALSE\n389. FALSE\n390. FALSE\n391. FALSE\n392. FALSE\n393. FALSE\n394. FALSE\n395. FALSE\n396. FALSE\n397. FALSE\n398. FALSE\n399. FALSE\n400. FALSE\n401. FALSE\n\n\n",
            "text/latex": "\\begin{enumerate*}\n\\item FALSE\n\\item FALSE\n\\item FALSE\n\\item FALSE\n\\item FALSE\n\\item FALSE\n\\item FALSE\n\\item FALSE\n\\item FALSE\n\\item FALSE\n\\item FALSE\n\\item FALSE\n\\item FALSE\n\\item FALSE\n\\item FALSE\n\\item FALSE\n\\item FALSE\n\\item FALSE\n\\item FALSE\n\\item FALSE\n\\item FALSE\n\\item FALSE\n\\item FALSE\n\\item FALSE\n\\item FALSE\n\\item FALSE\n\\item FALSE\n\\item FALSE\n\\item FALSE\n\\item FALSE\n\\item FALSE\n\\item FALSE\n\\item FALSE\n\\item FALSE\n\\item FALSE\n\\item FALSE\n\\item FALSE\n\\item FALSE\n\\item FALSE\n\\item FALSE\n\\item FALSE\n\\item FALSE\n\\item FALSE\n\\item FALSE\n\\item FALSE\n\\item FALSE\n\\item FALSE\n\\item FALSE\n\\item FALSE\n\\item FALSE\n\\item FALSE\n\\item FALSE\n\\item FALSE\n\\item FALSE\n\\item FALSE\n\\item FALSE\n\\item FALSE\n\\item FALSE\n\\item FALSE\n\\item FALSE\n\\item FALSE\n\\item FALSE\n\\item FALSE\n\\item FALSE\n\\item FALSE\n\\item FALSE\n\\item FALSE\n\\item FALSE\n\\item FALSE\n\\item FALSE\n\\item FALSE\n\\item FALSE\n\\item FALSE\n\\item FALSE\n\\item FALSE\n\\item FALSE\n\\item FALSE\n\\item FALSE\n\\item FALSE\n\\item FALSE\n\\item FALSE\n\\item FALSE\n\\item FALSE\n\\item FALSE\n\\item FALSE\n\\item FALSE\n\\item FALSE\n\\item FALSE\n\\item FALSE\n\\item FALSE\n\\item FALSE\n\\item FALSE\n\\item FALSE\n\\item FALSE\n\\item FALSE\n\\item FALSE\n\\item FALSE\n\\item FALSE\n\\item FALSE\n\\item FALSE\n\\item FALSE\n\\item FALSE\n\\item FALSE\n\\item FALSE\n\\item FALSE\n\\item FALSE\n\\item FALSE\n\\item FALSE\n\\item FALSE\n\\item FALSE\n\\item FALSE\n\\item FALSE\n\\item FALSE\n\\item FALSE\n\\item FALSE\n\\item FALSE\n\\item FALSE\n\\item FALSE\n\\item FALSE\n\\item FALSE\n\\item FALSE\n\\item FALSE\n\\item FALSE\n\\item FALSE\n\\item FALSE\n\\item FALSE\n\\item FALSE\n\\item FALSE\n\\item FALSE\n\\item FALSE\n\\item FALSE\n\\item FALSE\n\\item FALSE\n\\item FALSE\n\\item FALSE\n\\item FALSE\n\\item FALSE\n\\item FALSE\n\\item FALSE\n\\item FALSE\n\\item FALSE\n\\item FALSE\n\\item FALSE\n\\item FALSE\n\\item FALSE\n\\item FALSE\n\\item FALSE\n\\item FALSE\n\\item FALSE\n\\item FALSE\n\\item FALSE\n\\item FALSE\n\\item FALSE\n\\item FALSE\n\\item FALSE\n\\item FALSE\n\\item FALSE\n\\item FALSE\n\\item FALSE\n\\item FALSE\n\\item FALSE\n\\item FALSE\n\\item FALSE\n\\item FALSE\n\\item FALSE\n\\item FALSE\n\\item FALSE\n\\item FALSE\n\\item FALSE\n\\item FALSE\n\\item FALSE\n\\item FALSE\n\\item FALSE\n\\item FALSE\n\\item FALSE\n\\item FALSE\n\\item FALSE\n\\item FALSE\n\\item FALSE\n\\item FALSE\n\\item FALSE\n\\item FALSE\n\\item FALSE\n\\item FALSE\n\\item FALSE\n\\item FALSE\n\\item FALSE\n\\item FALSE\n\\item FALSE\n\\item FALSE\n\\item FALSE\n\\item FALSE\n\\item FALSE\n\\item FALSE\n\\item FALSE\n\\item FALSE\n\\item FALSE\n\\item FALSE\n\\item FALSE\n\\item FALSE\n\\item ⋯\n\\item FALSE\n\\item FALSE\n\\item FALSE\n\\item FALSE\n\\item FALSE\n\\item FALSE\n\\item FALSE\n\\item FALSE\n\\item FALSE\n\\item FALSE\n\\item FALSE\n\\item FALSE\n\\item FALSE\n\\item FALSE\n\\item FALSE\n\\item FALSE\n\\item FALSE\n\\item FALSE\n\\item FALSE\n\\item FALSE\n\\item FALSE\n\\item FALSE\n\\item FALSE\n\\item FALSE\n\\item FALSE\n\\item FALSE\n\\item FALSE\n\\item FALSE\n\\item FALSE\n\\item FALSE\n\\item FALSE\n\\item FALSE\n\\item FALSE\n\\item FALSE\n\\item FALSE\n\\item FALSE\n\\item FALSE\n\\item FALSE\n\\item FALSE\n\\item FALSE\n\\item FALSE\n\\item FALSE\n\\item FALSE\n\\item FALSE\n\\item FALSE\n\\item FALSE\n\\item FALSE\n\\item FALSE\n\\item FALSE\n\\item FALSE\n\\item FALSE\n\\item FALSE\n\\item FALSE\n\\item FALSE\n\\item FALSE\n\\item FALSE\n\\item FALSE\n\\item FALSE\n\\item FALSE\n\\item FALSE\n\\item FALSE\n\\item FALSE\n\\item FALSE\n\\item FALSE\n\\item FALSE\n\\item FALSE\n\\item FALSE\n\\item FALSE\n\\item FALSE\n\\item FALSE\n\\item FALSE\n\\item FALSE\n\\item FALSE\n\\item FALSE\n\\item FALSE\n\\item FALSE\n\\item FALSE\n\\item FALSE\n\\item FALSE\n\\item FALSE\n\\item FALSE\n\\item FALSE\n\\item FALSE\n\\item FALSE\n\\item FALSE\n\\item FALSE\n\\item FALSE\n\\item FALSE\n\\item FALSE\n\\item FALSE\n\\item FALSE\n\\item FALSE\n\\item FALSE\n\\item FALSE\n\\item FALSE\n\\item FALSE\n\\item FALSE\n\\item FALSE\n\\item FALSE\n\\item FALSE\n\\item FALSE\n\\item FALSE\n\\item FALSE\n\\item FALSE\n\\item FALSE\n\\item FALSE\n\\item FALSE\n\\item FALSE\n\\item FALSE\n\\item FALSE\n\\item FALSE\n\\item FALSE\n\\item FALSE\n\\item FALSE\n\\item FALSE\n\\item FALSE\n\\item FALSE\n\\item FALSE\n\\item FALSE\n\\item FALSE\n\\item FALSE\n\\item FALSE\n\\item FALSE\n\\item FALSE\n\\item FALSE\n\\item FALSE\n\\item FALSE\n\\item FALSE\n\\item FALSE\n\\item FALSE\n\\item FALSE\n\\item FALSE\n\\item FALSE\n\\item FALSE\n\\item FALSE\n\\item FALSE\n\\item FALSE\n\\item FALSE\n\\item FALSE\n\\item FALSE\n\\item FALSE\n\\item FALSE\n\\item FALSE\n\\item FALSE\n\\item FALSE\n\\item FALSE\n\\item FALSE\n\\item FALSE\n\\item FALSE\n\\item FALSE\n\\item FALSE\n\\item FALSE\n\\item FALSE\n\\item FALSE\n\\item FALSE\n\\item FALSE\n\\item FALSE\n\\item FALSE\n\\item FALSE\n\\item FALSE\n\\item FALSE\n\\item FALSE\n\\item FALSE\n\\item FALSE\n\\item FALSE\n\\item FALSE\n\\item FALSE\n\\item FALSE\n\\item FALSE\n\\item FALSE\n\\item FALSE\n\\item FALSE\n\\item FALSE\n\\item FALSE\n\\item FALSE\n\\item FALSE\n\\item FALSE\n\\item FALSE\n\\item FALSE\n\\item FALSE\n\\item FALSE\n\\item FALSE\n\\item FALSE\n\\item FALSE\n\\item FALSE\n\\item FALSE\n\\item FALSE\n\\item FALSE\n\\item FALSE\n\\item FALSE\n\\item FALSE\n\\item FALSE\n\\item FALSE\n\\item FALSE\n\\item FALSE\n\\item FALSE\n\\item FALSE\n\\item FALSE\n\\item FALSE\n\\item FALSE\n\\end{enumerate*}\n",
            "text/plain": [
              "  [1] FALSE FALSE FALSE FALSE FALSE FALSE FALSE FALSE FALSE FALSE FALSE FALSE\n",
              " [13] FALSE FALSE FALSE FALSE FALSE FALSE FALSE FALSE FALSE FALSE FALSE FALSE\n",
              " [25] FALSE FALSE FALSE FALSE FALSE FALSE FALSE FALSE FALSE FALSE FALSE FALSE\n",
              " [37] FALSE FALSE FALSE FALSE FALSE FALSE FALSE FALSE FALSE FALSE FALSE FALSE\n",
              " [49] FALSE FALSE FALSE FALSE FALSE FALSE FALSE FALSE FALSE FALSE FALSE FALSE\n",
              " [61] FALSE FALSE FALSE FALSE FALSE FALSE FALSE FALSE FALSE FALSE FALSE FALSE\n",
              " [73] FALSE FALSE FALSE FALSE FALSE FALSE FALSE FALSE FALSE FALSE FALSE FALSE\n",
              " [85] FALSE FALSE FALSE FALSE FALSE FALSE FALSE FALSE FALSE FALSE FALSE FALSE\n",
              " [97] FALSE FALSE FALSE FALSE FALSE FALSE FALSE FALSE FALSE FALSE FALSE FALSE\n",
              "[109] FALSE FALSE FALSE FALSE FALSE FALSE FALSE FALSE FALSE FALSE FALSE FALSE\n",
              "[121] FALSE FALSE FALSE FALSE FALSE FALSE FALSE FALSE FALSE FALSE FALSE FALSE\n",
              "[133] FALSE FALSE FALSE FALSE FALSE FALSE FALSE FALSE FALSE FALSE FALSE FALSE\n",
              "[145] FALSE FALSE FALSE FALSE FALSE FALSE FALSE FALSE FALSE FALSE FALSE FALSE\n",
              "[157] FALSE FALSE FALSE FALSE FALSE FALSE FALSE FALSE FALSE FALSE FALSE FALSE\n",
              "[169] FALSE FALSE FALSE FALSE FALSE FALSE FALSE FALSE FALSE FALSE FALSE FALSE\n",
              "[181] FALSE FALSE FALSE FALSE FALSE FALSE FALSE FALSE FALSE FALSE FALSE FALSE\n",
              "[193] FALSE FALSE FALSE FALSE FALSE FALSE FALSE FALSE FALSE FALSE FALSE FALSE\n",
              "[205] FALSE FALSE FALSE FALSE FALSE FALSE FALSE FALSE FALSE FALSE FALSE FALSE\n",
              "[217] FALSE FALSE FALSE FALSE FALSE FALSE FALSE FALSE FALSE FALSE FALSE FALSE\n",
              "[229] FALSE FALSE FALSE FALSE FALSE FALSE FALSE FALSE FALSE FALSE FALSE FALSE\n",
              "[241] FALSE FALSE FALSE FALSE FALSE FALSE FALSE FALSE FALSE FALSE FALSE FALSE\n",
              "[253] FALSE FALSE FALSE FALSE FALSE FALSE FALSE FALSE FALSE FALSE FALSE FALSE\n",
              "[265] FALSE FALSE FALSE FALSE FALSE FALSE FALSE FALSE FALSE FALSE FALSE FALSE\n",
              "[277] FALSE FALSE FALSE FALSE FALSE FALSE FALSE FALSE FALSE FALSE FALSE FALSE\n",
              "[289] FALSE FALSE FALSE FALSE FALSE FALSE FALSE FALSE FALSE FALSE FALSE FALSE\n",
              "[301] FALSE FALSE FALSE FALSE FALSE FALSE FALSE FALSE FALSE FALSE FALSE FALSE\n",
              "[313] FALSE FALSE FALSE FALSE FALSE FALSE FALSE FALSE FALSE FALSE FALSE FALSE\n",
              "[325] FALSE FALSE FALSE FALSE FALSE FALSE FALSE FALSE FALSE FALSE FALSE FALSE\n",
              "[337] FALSE FALSE FALSE FALSE FALSE FALSE FALSE FALSE FALSE FALSE FALSE FALSE\n",
              "[349] FALSE FALSE FALSE FALSE FALSE FALSE FALSE FALSE FALSE FALSE FALSE FALSE\n",
              "[361] FALSE FALSE FALSE FALSE FALSE FALSE FALSE FALSE FALSE FALSE FALSE FALSE\n",
              "[373] FALSE FALSE FALSE FALSE FALSE FALSE FALSE FALSE FALSE FALSE FALSE FALSE\n",
              "[385] FALSE FALSE FALSE FALSE FALSE FALSE FALSE FALSE FALSE FALSE FALSE FALSE\n",
              "[397] FALSE FALSE FALSE FALSE FALSE FALSE FALSE FALSE FALSE FALSE FALSE FALSE\n",
              "[409] FALSE FALSE FALSE FALSE FALSE FALSE FALSE FALSE FALSE FALSE FALSE FALSE\n",
              "[421] FALSE FALSE FALSE FALSE FALSE FALSE FALSE FALSE FALSE FALSE FALSE FALSE\n",
              "[433] FALSE FALSE FALSE FALSE FALSE FALSE FALSE FALSE FALSE FALSE FALSE FALSE\n",
              "[445] FALSE FALSE FALSE FALSE FALSE FALSE FALSE FALSE FALSE FALSE FALSE FALSE\n",
              "[457] FALSE FALSE FALSE FALSE FALSE FALSE FALSE FALSE FALSE FALSE FALSE FALSE\n",
              "[469] FALSE FALSE FALSE FALSE FALSE FALSE FALSE FALSE FALSE FALSE FALSE FALSE\n",
              "[481] FALSE FALSE FALSE FALSE FALSE FALSE FALSE FALSE FALSE FALSE FALSE FALSE\n",
              "[493] FALSE FALSE FALSE FALSE FALSE FALSE FALSE FALSE FALSE FALSE FALSE FALSE\n",
              "[505] FALSE FALSE FALSE FALSE FALSE FALSE FALSE FALSE FALSE FALSE FALSE FALSE\n",
              "[517] FALSE FALSE FALSE FALSE FALSE FALSE FALSE FALSE FALSE FALSE FALSE FALSE\n",
              "[529] FALSE FALSE FALSE FALSE FALSE FALSE FALSE FALSE FALSE FALSE FALSE FALSE\n",
              "[541] FALSE FALSE FALSE FALSE FALSE FALSE FALSE FALSE FALSE FALSE FALSE FALSE\n",
              "[553] FALSE FALSE FALSE FALSE FALSE FALSE FALSE FALSE FALSE FALSE FALSE FALSE\n",
              "[565] FALSE FALSE FALSE FALSE FALSE FALSE FALSE FALSE FALSE FALSE FALSE FALSE\n",
              "[577] FALSE FALSE FALSE FALSE FALSE FALSE FALSE FALSE FALSE FALSE FALSE FALSE\n",
              "[589] FALSE FALSE FALSE FALSE FALSE FALSE FALSE FALSE FALSE FALSE FALSE FALSE\n",
              "[601] FALSE FALSE FALSE FALSE FALSE FALSE FALSE FALSE FALSE FALSE FALSE FALSE\n",
              "[613] FALSE FALSE FALSE FALSE FALSE FALSE FALSE FALSE FALSE FALSE FALSE FALSE\n",
              "[625] FALSE FALSE FALSE FALSE FALSE FALSE FALSE FALSE FALSE FALSE FALSE FALSE\n",
              "[637] FALSE FALSE FALSE FALSE FALSE FALSE FALSE FALSE FALSE FALSE FALSE FALSE\n",
              "[649] FALSE FALSE FALSE FALSE FALSE FALSE FALSE FALSE FALSE FALSE FALSE FALSE\n",
              "[661] FALSE FALSE FALSE FALSE FALSE FALSE FALSE FALSE FALSE FALSE FALSE FALSE\n",
              "[673] FALSE FALSE FALSE FALSE FALSE FALSE FALSE FALSE FALSE FALSE FALSE FALSE\n",
              "[685] FALSE FALSE FALSE FALSE FALSE FALSE FALSE FALSE FALSE FALSE FALSE FALSE\n",
              "[697] FALSE FALSE FALSE FALSE FALSE FALSE FALSE FALSE FALSE FALSE FALSE FALSE\n",
              "[709] FALSE FALSE FALSE FALSE FALSE FALSE FALSE FALSE FALSE FALSE FALSE FALSE\n",
              "[721] FALSE FALSE FALSE FALSE FALSE FALSE FALSE FALSE FALSE FALSE FALSE FALSE"
            ]
          },
          "metadata": {}
        }
      ]
    },
    {
      "cell_type": "code",
      "source": [
        "datos[!complete.cases(datos), ]"
      ],
      "metadata": {
        "colab": {
          "base_uri": "https://localhost:8080/",
          "height": 135
        },
        "id": "V8zb3dAqbTJL",
        "outputId": "91f9a4b1-bdac-4201-eaed-05f3b36d9dde"
      },
      "execution_count": null,
      "outputs": [
        {
          "output_type": "display_data",
          "data": {
            "text/html": [
              "<table class=\"dataframe\">\n",
              "<caption>A tibble: 0 × 15</caption>\n",
              "<thead>\n",
              "\t<tr><th scope=col>...1</th><th scope=col>Unnamed: 0</th><th scope=col>Text</th><th scope=col>Sentiment</th><th scope=col>Timestamp</th><th scope=col>User</th><th scope=col>Platform</th><th scope=col>Hashtags</th><th scope=col>Retweets</th><th scope=col>Likes</th><th scope=col>Country</th><th scope=col>Year</th><th scope=col>Month</th><th scope=col>Day</th><th scope=col>Hour</th></tr>\n",
              "\t<tr><th scope=col>&lt;dbl&gt;</th><th scope=col>&lt;dbl&gt;</th><th scope=col>&lt;chr&gt;</th><th scope=col>&lt;chr&gt;</th><th scope=col>&lt;dttm&gt;</th><th scope=col>&lt;chr&gt;</th><th scope=col>&lt;chr&gt;</th><th scope=col>&lt;chr&gt;</th><th scope=col>&lt;dbl&gt;</th><th scope=col>&lt;dbl&gt;</th><th scope=col>&lt;chr&gt;</th><th scope=col>&lt;dbl&gt;</th><th scope=col>&lt;dbl&gt;</th><th scope=col>&lt;dbl&gt;</th><th scope=col>&lt;dbl&gt;</th></tr>\n",
              "</thead>\n",
              "<tbody>\n",
              "</tbody>\n",
              "</table>\n"
            ],
            "text/markdown": "\nA tibble: 0 × 15\n\n| ...1 &lt;dbl&gt; | Unnamed: 0 &lt;dbl&gt; | Text &lt;chr&gt; | Sentiment &lt;chr&gt; | Timestamp &lt;dttm&gt; | User &lt;chr&gt; | Platform &lt;chr&gt; | Hashtags &lt;chr&gt; | Retweets &lt;dbl&gt; | Likes &lt;dbl&gt; | Country &lt;chr&gt; | Year &lt;dbl&gt; | Month &lt;dbl&gt; | Day &lt;dbl&gt; | Hour &lt;dbl&gt; |\n|---|---|---|---|---|---|---|---|---|---|---|---|---|---|---|\n\n",
            "text/latex": "A tibble: 0 × 15\n\\begin{tabular}{lllllllllllllll}\n ...1 & Unnamed: 0 & Text & Sentiment & Timestamp & User & Platform & Hashtags & Retweets & Likes & Country & Year & Month & Day & Hour\\\\\n <dbl> & <dbl> & <chr> & <chr> & <dttm> & <chr> & <chr> & <chr> & <dbl> & <dbl> & <chr> & <dbl> & <dbl> & <dbl> & <dbl>\\\\\n\\hline\n\\end{tabular}\n",
            "text/plain": [
              "     ...1 Unnamed: 0 Text Sentiment Timestamp User Platform Hashtags Retweets\n",
              "     Likes Country Year Month Day Hour"
            ]
          },
          "metadata": {}
        }
      ]
    },
    {
      "cell_type": "code",
      "source": [
        "omissionData <- na.omit(datos)\n",
        "View(datos)"
      ],
      "metadata": {
        "colab": {
          "base_uri": "https://localhost:8080/",
          "height": 1000
        },
        "id": "8wLJD1-WbY4F",
        "outputId": "281c8216-4e25-400d-b750-e0510beff343"
      },
      "execution_count": null,
      "outputs": [
        {
          "output_type": "display_data",
          "data": {
            "text/plain": [
              "    ...1 Unnamed: 0\n",
              "1    0    0        \n",
              "2    1    1        \n",
              "3    2    2        \n",
              "4    3    3        \n",
              "5    4    4        \n",
              "6    5    5        \n",
              "7    6    6        \n",
              "8    7    7        \n",
              "9    8    8        \n",
              "10   9    9        \n",
              "11  10   10        \n",
              "12  11   11        \n",
              "13  12   12        \n",
              "14  13   13        \n",
              "15  14   14        \n",
              "16  15   15        \n",
              "17  16   16        \n",
              "18  17   17        \n",
              "19  18   18        \n",
              "20  19   19        \n",
              "21  20   20        \n",
              "22  21   21        \n",
              "23  22   22        \n",
              "24  23   23        \n",
              "25  24   24        \n",
              "26  25   25        \n",
              "27  27   28        \n",
              "28  28   29        \n",
              "29  29   30        \n",
              "30  30   31        \n",
              "⋮   ⋮    ⋮         \n",
              "703 703  707       \n",
              "704 704  708       \n",
              "705 705  709       \n",
              "706 706  710       \n",
              "707 707  711       \n",
              "708 708  712       \n",
              "709 709  713       \n",
              "710 710  714       \n",
              "711 711  715       \n",
              "712 712  716       \n",
              "713 713  717       \n",
              "714 714  718       \n",
              "715 715  719       \n",
              "716 716  720       \n",
              "717 717  721       \n",
              "718 718  722       \n",
              "719 719  723       \n",
              "720 720  724       \n",
              "721 721  725       \n",
              "722 722  726       \n",
              "723 723  727       \n",
              "724 724  728       \n",
              "725 725  729       \n",
              "726 726  730       \n",
              "727 727  731       \n",
              "728 728  732       \n",
              "729 729  733       \n",
              "730 730  734       \n",
              "731 731  735       \n",
              "732 732  736       \n",
              "    Text                                                                                                                           \n",
              "1   Enjoying a beautiful day at the park!                                                                                          \n",
              "2   Traffic was terrible this morning.                                                                                             \n",
              "3   Just finished an amazing workout! ðŸ’ª                                                                                         \n",
              "4   Excited about the upcoming weekend getaway!                                                                                    \n",
              "5   Trying out a new recipe for dinner tonight.                                                                                    \n",
              "6   Feeling grateful for the little things in life.                                                                                \n",
              "7   Rainy days call for cozy blankets and hot cocoa.                                                                               \n",
              "8   The new movie release is a must-watch!                                                                                         \n",
              "9   Political discussions heating up on the timeline.                                                                              \n",
              "10  Missing summer vibes and beach days.                                                                                           \n",
              "11  Just published a new blog post. Check it out!                                                                                  \n",
              "12  Feeling a bit under the weather today.                                                                                         \n",
              "13  Exploring the city's hidden gems.                                                                                              \n",
              "14  New year, new fitness goals! ðŸ’ª                                                                                              \n",
              "15  Technology is changing the way we live.                                                                                        \n",
              "16  Reflecting on the past and looking ahead.                                                                                      \n",
              "17  Just adopted a cute furry friend! ðŸ\\u0090¾                                                                                    \n",
              "18  Late-night gaming session with friends.                                                                                        \n",
              "19  Attending a virtual conference on AI.                                                                                          \n",
              "20  Winter blues got me feeling low.                                                                                               \n",
              "21  Sipping coffee and enjoying a good book.                                                                                       \n",
              "22  Exploring the world of virtual reality.                                                                                        \n",
              "23  Productive day ticking off my to-do list.                                                                                      \n",
              "24  Just finished a challenging workout routine.                                                                                   \n",
              "25  Celebrating a milestone at work! ðŸŽ‰                                                                                          \n",
              "26  Sunday brunch with friends.                                                                                                    \n",
              "27  Learning a new language for personal growth.                                                                                   \n",
              "28  Quiet evening with a good book.                                                                                                \n",
              "29  Reflecting on the importance of mental health.                                                                                 \n",
              "30  New painting in progress! ðŸŽ¨                                                                                                 \n",
              "⋮   ⋮                                                                                                                              \n",
              "703 Having a string of bad luck with constant technology malfunctions. Tech troubles galore!                                       \n",
              "704 Missing out on a long-anticipated event due to unexpected circumstances. A day filled with sadness.                            \n",
              "705 Trying out a new study technique for upcoming exams. Exploring different learning strategies.                                  \n",
              "706 Organizing a community cleanup event for a cleaner neighborhood. Promoting environmental awareness.                            \n",
              "707 Sharing favorite book recommendations with classmates. Building a mini book club.                                              \n",
              "708 Experimenting with a new recipe for a school bake sale. Baking adventures in the kitchen.                                      \n",
              "709 Collaborating on a school project with peers. Teamwork makes the dream work.                                                   \n",
              "710 Attending a school club meeting to explore new interests. Dabbling in extracurricular activities.                              \n",
              "711 Exploring a new part-time job opportunity for gaining work experience. Career development in progress.                         \n",
              "712 Attending a school assembly to stay informed about upcoming events and announcements. Staying connected with school activities.\n",
              "713 Exploring a new hobby of photography during free time. Capturing moments through a lens.                                       \n",
              "714 Participating in a science fair to showcase a unique experiment. Sharing knowledge with peers.                                 \n",
              "715 Attending a workshop on time management to enhance organizational skills. Striving for efficiency.                             \n",
              "716 Volunteering at a local charity event to give back to the community. Contributing to social causes.                            \n",
              "717 Collaborating on a group project to promote teamwork and shared responsibilities. Group effort in action.                      \n",
              "718 Participating in a debate club to enhance critical thinking and communication skills. Intellectual engagement in progress.     \n",
              "719 Celebrating a friend's birthday with a surprise party. Joyful moments and laughter all around!                                 \n",
              "720 Successfully completing a challenging coding project. Excitement for overcoming coding hurdles!                                \n",
              "721 Attending a school talent show to support classmates. Applauding the diverse talents on display!                               \n",
              "722 Exploring a new hiking trail with friends over the weekend. Nature, laughter, and good vibes!                                  \n",
              "723 Winning a friendly sports competition against rival schools. Victory celebrations in full swing!                               \n",
              "724 Receiving a heartfelt letter from a pen pal in another country. Connecting across the globe!                                   \n",
              "725 Creating a beautiful mural with fellow art enthusiasts. The power of collaboration and creativity!                             \n",
              "726 Participating in a school-wide art exhibition. Witnessing creativity and spreading positive vibes!                             \n",
              "727 Achieving a personal best in a track and field competition. The thrill of victory and self-improvement!                        \n",
              "728 Collaborating on a science project that received recognition at a regional fair. Science triumphs and smiles!                  \n",
              "729 Attending a surprise birthday party organized by friends. Surrounded by love, laughter, and good company!                      \n",
              "730 Successfully fundraising for a school charity initiative. The joy of giving back to the community!                             \n",
              "731 Participating in a multicultural festival, celebrating diversity with music, dance, and delicious food!                        \n",
              "732 Organizing a virtual talent show during challenging times, bringing smiles to classmates' faces!                               \n",
              "    Sentiment Timestamp           User                                 \n",
              "1   Positive  2023-01-15 12:30:00 User123                              \n",
              "2   Negative  2023-01-15 08:45:00 CommuterX                            \n",
              "3   Positive  2023-01-15 15:45:00 FitnessFan                           \n",
              "4   Positive  2023-01-15 18:20:00 AdventureX                           \n",
              "5   Neutral   2023-01-15 19:55:00 ChefCook                             \n",
              "6   Positive  2023-01-16 09:10:00 GratitudeNow                         \n",
              "7   Positive  2023-01-16 14:45:00 RainyDays                            \n",
              "8   Positive  2023-01-16 19:30:00 MovieBuff                            \n",
              "9   Negative  2023-01-17 08:00:00 DebateTalk                           \n",
              "10  Neutral   2023-01-17 12:20:00 BeachLover                           \n",
              "11  Positive  2023-01-17 15:15:00 BloggerX                             \n",
              "12  Negative  2023-01-18 10:30:00 WellnessCheck                        \n",
              "13  Positive  2023-01-18 14:50:00 UrbanExplorer                        \n",
              "14  Positive  2023-01-18 18:00:00 FitJourney                           \n",
              "15  Neutral   2023-01-19 09:45:00 TechEnthusiast                       \n",
              "16  Positive  2023-01-19 13:20:00 Reflections                          \n",
              "17  Positive  2023-01-19 17:10:00 PetAdopter                           \n",
              "18  Positive  2023-01-20 00:05:00 GamerX                               \n",
              "19  Neutral   2023-01-20 11:30:00 TechConference                       \n",
              "20  Negative  2023-01-20 15:15:00 WinterBlues                          \n",
              "21  Positive  2023-01-21 08:40:00 Bookworm                             \n",
              "22  Positive  2023-01-21 13:20:00 VRExplorer                           \n",
              "23  Positive  2023-01-21 16:45:00 ProductivityPro                      \n",
              "24  Positive  2023-01-22 09:15:00 FitnessWarrior                       \n",
              "25  Positive  2023-01-22 14:30:00 CareerMilestone                      \n",
              "26  Positive  2023-01-22 12:00:00 BrunchBuddy                          \n",
              "27  Positive  2023-01-23 16:20:00 LanguageLearner                      \n",
              "28  Positive  2023-01-23 19:45:00 BookLover                            \n",
              "29  Positive  2023-01-24 11:30:00 MentalHealthMatters                  \n",
              "30  Positive  2023-01-24 15:00:00 ArtistInAction                       \n",
              "⋮   ⋮         ⋮                   ⋮                                    \n",
              "703 Bad       2023-09-30 18:20:00 TechMalfunctionWoesHighSchool        \n",
              "704 Sad       2023-10-01 14:15:00 MissedEventBluesHighSchool           \n",
              "705 Neutral   2023-10-02 16:45:00 StudyTechniqueExperimentHighSchool   \n",
              "706 Neutral   2023-10-03 12:30:00 CommunityCleanupHighSchool           \n",
              "707 Neutral   2023-10-04 18:20:00 BookRecommendationsHighSchool        \n",
              "708 Neutral   2023-10-05 14:15:00 BakeSaleRecipeExperimentHighSchool   \n",
              "709 Neutral   2023-10-06 17:30:00 SchoolProjectCollaborationHighSchool \n",
              "710 Neutral   2023-10-07 20:45:00 ExtracurricularExplorationHighSchool \n",
              "711 Neutral   2023-10-08 15:15:00 PartTimeJobExplorationHighSchool     \n",
              "712 Neutral   2023-10-09 22:00:00 SchoolAssemblyParticipationHighSchool\n",
              "713 Neutral   2023-10-10 14:15:00 PhotographyHobbyHighSchool           \n",
              "714 Neutral   2023-10-11 16:45:00 ScienceFairParticipationHighSchool   \n",
              "715 Neutral   2023-10-12 18:20:00 TimeManagementWorkshopHighSchool     \n",
              "716 Neutral   2023-10-13 12:30:00 CharityEventVolunteerHighSchool      \n",
              "717 Neutral   2023-10-14 17:30:00 GroupProjectCollaborationHighSchool  \n",
              "718 Neutral   2023-10-15 20:45:00 DebateClubParticipationHighSchool    \n",
              "719 Happy     2023-10-16 15:45:00 BirthdaySurpriseHighSchool           \n",
              "720 Happy     2023-10-17 12:30:00 CodingSuccessHighSchool              \n",
              "721 Happy     2023-10-18 16:45:00 TalentShowSupportHighSchool          \n",
              "722 Happy     2023-10-19 18:20:00 WeekendHikeHighSchool                \n",
              "723 Happy     2023-10-20 14:15:00 SportsVictoryHighSchool              \n",
              "724 Happy     2023-10-21 17:30:00 PenPalConnectionHighSchool           \n",
              "725 Happy     2023-10-22 20:45:00 MuralCreationHighSchool              \n",
              "726 Happy     2015-11-10 16:45:00 ArtExhibitionJoyHighSchool           \n",
              "727 Happy     2016-09-14 12:30:00 TrackFieldSuccessHighSchool          \n",
              "728 Happy     2017-08-18 18:20:00 ScienceProjectSuccessHighSchool      \n",
              "729 Happy     2018-06-22 14:15:00 BirthdayPartyJoyHighSchool           \n",
              "730 Happy     2019-04-05 17:30:00 CharityFundraisingTriumphHighSchool  \n",
              "731 Happy     2020-02-29 20:45:00 MulticulturalFestivalJoyHighSchool   \n",
              "732 Happy     2020-11-15 15:15:00 VirtualTalentShowSuccessHighSchool   \n",
              "    Platform  Hashtags                                    Retweets Likes\n",
              "1   Twitter   #Nature #Park                               15       30   \n",
              "2   Twitter   #Traffic #Morning                            5       10   \n",
              "3   Instagram #Fitness #Workout                           20       40   \n",
              "4   Facebook  #Travel #Adventure                           8       15   \n",
              "5   Instagram #Cooking #Food                              12       25   \n",
              "6   Twitter   #Gratitude #PositiveVibes                   25       50   \n",
              "7   Facebook  #RainyDays #Cozy                            10       20   \n",
              "8   Instagram #MovieNight #MustWatch                      15       30   \n",
              "9   Twitter   #Politics #Debate                           30       60   \n",
              "10  Facebook  #Summer #BeachDays                          18       35   \n",
              "11  Instagram #Blogging #NewPost                          22       45   \n",
              "12  Twitter   #SickDay #Health                             7       15   \n",
              "13  Facebook  #CityExplore #HiddenGems                    12       25   \n",
              "14  Instagram #NewYear #FitnessGoals                      28       55   \n",
              "15  Twitter   #Tech #Innovation                           15       30   \n",
              "16  Facebook  #Reflection #Future                         20       40   \n",
              "17  Instagram #PetAdoption #FurryFriend                   15       30   \n",
              "18  Twitter   #Gaming #LateNight                          18       35   \n",
              "19  Facebook  #AI #TechConference                         25       50   \n",
              "20  Instagram #WinterBlues #Mood                           8       15   \n",
              "21  Twitter   #Reading #CoffeeTime                        22       45   \n",
              "22  Facebook  #VR #VirtualReality                         15       30   \n",
              "23  Instagram #Productivity #WorkFromHome                 30       60   \n",
              "24  Twitter   #Fitness #ChallengeAccepted                 20       40   \n",
              "25  Facebook  #Career #Milestone                          12       25   \n",
              "26  Instagram #Brunch #Friends                            15       30   \n",
              "27  Facebook  #LanguageLearning #PersonalGrowth           25       50   \n",
              "28  Instagram #Reading #QuietTime                         15       30   \n",
              "29  Twitter   #MentalHealth #SelfCare                     22       45   \n",
              "30  Facebook  #Art #PaintingInProgress                    12       25   \n",
              "⋮   ⋮         ⋮                                           ⋮        ⋮    \n",
              "703 Instagram #TechIssues #HighSchoolTech                 22       43   \n",
              "704 Facebook  #MissedMoments #HighSchoolRegret            20       39   \n",
              "705 Instagram #StudyStrategies #HighSchoolExams           23       42   \n",
              "706 Twitter   #EnvironmentalEfforts #HighSchoolCommunity  26       50   \n",
              "707 Facebook  #BookClub #HighSchoolReads                  19       38   \n",
              "708 Instagram #BakingAdventures #HighSchoolBakes          21       43   \n",
              "709 Twitter   #Teamwork #HighSchoolProjects               18       36   \n",
              "710 Instagram #SchoolClubs #HighSchoolInterests           22       45   \n",
              "711 Facebook  #CareerDevelopment #HighSchoolJobs          24       48   \n",
              "712 Twitter   #SchoolEvents #HighSchoolConnectivity       20       40   \n",
              "713 Instagram #PhotographyJourney #HighSchoolHobbies      25       49   \n",
              "714 Facebook  #ScienceFair #HighSchoolScience             19       37   \n",
              "715 Twitter   #EfficiencyGoals #HighSchoolSkills          23       44   \n",
              "716 Instagram #CommunityService #HighSchoolVolunteer      20       39   \n",
              "717 Facebook  #TeamSpirit #HighSchoolProjects             18       35   \n",
              "718 Twitter   #DebateSkills #HighSchoolIntellect          22       43   \n",
              "719 Instagram #SurpriseParty #HighSchoolCelebration       27       52   \n",
              "720 Twitter   #CodingTriumph #HighSchoolTech              24       48   \n",
              "721 Facebook  #TalentShow #HighSchoolEntertainment        19       38   \n",
              "722 Instagram #NatureAdventures #HighSchoolFriends        21       42   \n",
              "723 Twitter   #SportsTriumph #HighSchoolAthletics         26       50   \n",
              "724 Facebook  #GlobalFriendship #HighSchoolCorrespondence 23       45   \n",
              "725 Instagram #ArtCollaboration #HighSchoolCreativity     22       43   \n",
              "726 Instagram #ArtisticExpression #HighSchoolCreativity   23       44   \n",
              "727 Twitter   #AthleticAchievement #HighSchoolSports      26       51   \n",
              "728 Facebook  #ScienceFairWinner #HighSchoolScience       20       39   \n",
              "729 Instagram #SurpriseCelebration #HighSchoolFriendship  25       48   \n",
              "730 Twitter   #CommunityGiving #HighSchoolPhilanthropy    22       42   \n",
              "731 Facebook  #CulturalCelebration #HighSchoolUnity       21       43   \n",
              "732 Instagram #VirtualEntertainment #HighSchoolPositivity 24       47   \n",
              "    Country   Year Month Day Hour\n",
              "1   USA       2023 1     15  12  \n",
              "2   Canada    2023 1     15   8  \n",
              "3   USA       2023 1     15  15  \n",
              "4   UK        2023 1     15  18  \n",
              "5   Australia 2023 1     15  19  \n",
              "6   India     2023 1     16   9  \n",
              "7   Canada    2023 1     16  14  \n",
              "8   USA       2023 1     16  19  \n",
              "9   USA       2023 1     17   8  \n",
              "10  Australia 2023 1     17  12  \n",
              "11  USA       2023 1     17  15  \n",
              "12  Canada    2023 1     18  10  \n",
              "13  UK        2023 1     18  14  \n",
              "14  USA       2023 1     18  18  \n",
              "15  India     2023 1     19   9  \n",
              "16  USA       2023 1     19  13  \n",
              "17  Canada    2023 1     19  17  \n",
              "18  UK        2023 1     20   0  \n",
              "19  USA       2023 1     20  11  \n",
              "20  USA       2023 1     20  15  \n",
              "21  India     2023 1     21   8  \n",
              "22  USA       2023 1     21  13  \n",
              "23  USA       2023 1     21  16  \n",
              "24  UK        2023 1     22   9  \n",
              "25  Canada    2023 1     22  14  \n",
              "26  UK        2023 1     22  12  \n",
              "27  India     2023 1     23  16  \n",
              "28  Australia 2023 1     23  19  \n",
              "29  USA       2023 1     24  11  \n",
              "30  Canada    2023 1     24  15  \n",
              "⋮   ⋮         ⋮    ⋮     ⋮   ⋮   \n",
              "703 Canada    2023  9    30  18  \n",
              "704 UK        2023 10     1  14  \n",
              "705 USA       2023 10     2  16  \n",
              "706 Canada    2023 10     3  12  \n",
              "707 UK        2023 10     4  18  \n",
              "708 USA       2023 10     5  14  \n",
              "709 Canada    2023 10     6  17  \n",
              "710 UK        2023 10     7  20  \n",
              "711 USA       2023 10     8  15  \n",
              "712 Canada    2023 10     9  22  \n",
              "713 UK        2023 10    10  14  \n",
              "714 USA       2023 10    11  16  \n",
              "715 Canada    2023 10    12  18  \n",
              "716 UK        2023 10    13  12  \n",
              "717 USA       2023 10    14  17  \n",
              "718 Canada    2023 10    15  20  \n",
              "719 UK        2023 10    16  15  \n",
              "720 USA       2023 10    17  12  \n",
              "721 Canada    2023 10    18  16  \n",
              "722 UK        2023 10    19  18  \n",
              "723 USA       2023 10    20  14  \n",
              "724 Canada    2023 10    21  17  \n",
              "725 UK        2023 10    22  20  \n",
              "726 USA       2015 11    10  16  \n",
              "727 Canada    2016  9    14  12  \n",
              "728 UK        2017  8    18  18  \n",
              "729 USA       2018  6    22  14  \n",
              "730 Canada    2019  4     5  17  \n",
              "731 UK        2020  2    29  20  \n",
              "732 USA       2020 11    15  15  "
            ],
            "text/html": [
              "<table class=\"dataframe\">\n",
              "<caption>A tibble: 732 × 15</caption>\n",
              "<thead>\n",
              "\t<tr><th scope=col>...1</th><th scope=col>Unnamed: 0</th><th scope=col>Text</th><th scope=col>Sentiment</th><th scope=col>Timestamp</th><th scope=col>User</th><th scope=col>Platform</th><th scope=col>Hashtags</th><th scope=col>Retweets</th><th scope=col>Likes</th><th scope=col>Country</th><th scope=col>Year</th><th scope=col>Month</th><th scope=col>Day</th><th scope=col>Hour</th></tr>\n",
              "\t<tr><th scope=col>&lt;dbl&gt;</th><th scope=col>&lt;dbl&gt;</th><th scope=col>&lt;chr&gt;</th><th scope=col>&lt;chr&gt;</th><th scope=col>&lt;dttm&gt;</th><th scope=col>&lt;chr&gt;</th><th scope=col>&lt;chr&gt;</th><th scope=col>&lt;chr&gt;</th><th scope=col>&lt;dbl&gt;</th><th scope=col>&lt;dbl&gt;</th><th scope=col>&lt;chr&gt;</th><th scope=col>&lt;dbl&gt;</th><th scope=col>&lt;dbl&gt;</th><th scope=col>&lt;dbl&gt;</th><th scope=col>&lt;dbl&gt;</th></tr>\n",
              "</thead>\n",
              "<tbody>\n",
              "\t<tr><td> 0</td><td> 0</td><td>Enjoying a beautiful day at the park!            </td><td>Positive</td><td>2023-01-15 12:30:00</td><td>User123            </td><td>Twitter  </td><td>#Nature #Park                    </td><td>15</td><td>30</td><td>USA      </td><td>2023</td><td>1</td><td>15</td><td>12</td></tr>\n",
              "\t<tr><td> 1</td><td> 1</td><td>Traffic was terrible this morning.               </td><td>Negative</td><td>2023-01-15 08:45:00</td><td>CommuterX          </td><td>Twitter  </td><td>#Traffic #Morning                </td><td> 5</td><td>10</td><td>Canada   </td><td>2023</td><td>1</td><td>15</td><td> 8</td></tr>\n",
              "\t<tr><td> 2</td><td> 2</td><td>Just finished an amazing workout! ðŸ’ª           </td><td>Positive</td><td>2023-01-15 15:45:00</td><td>FitnessFan         </td><td>Instagram</td><td>#Fitness #Workout                </td><td>20</td><td>40</td><td>USA      </td><td>2023</td><td>1</td><td>15</td><td>15</td></tr>\n",
              "\t<tr><td> 3</td><td> 3</td><td>Excited about the upcoming weekend getaway!      </td><td>Positive</td><td>2023-01-15 18:20:00</td><td>AdventureX         </td><td>Facebook </td><td>#Travel #Adventure               </td><td> 8</td><td>15</td><td>UK       </td><td>2023</td><td>1</td><td>15</td><td>18</td></tr>\n",
              "\t<tr><td> 4</td><td> 4</td><td>Trying out a new recipe for dinner tonight.      </td><td>Neutral </td><td>2023-01-15 19:55:00</td><td>ChefCook           </td><td>Instagram</td><td>#Cooking #Food                   </td><td>12</td><td>25</td><td>Australia</td><td>2023</td><td>1</td><td>15</td><td>19</td></tr>\n",
              "\t<tr><td> 5</td><td> 5</td><td>Feeling grateful for the little things in life.  </td><td>Positive</td><td>2023-01-16 09:10:00</td><td>GratitudeNow       </td><td>Twitter  </td><td>#Gratitude #PositiveVibes        </td><td>25</td><td>50</td><td>India    </td><td>2023</td><td>1</td><td>16</td><td> 9</td></tr>\n",
              "\t<tr><td> 6</td><td> 6</td><td>Rainy days call for cozy blankets and hot cocoa. </td><td>Positive</td><td>2023-01-16 14:45:00</td><td>RainyDays          </td><td>Facebook </td><td>#RainyDays #Cozy                 </td><td>10</td><td>20</td><td>Canada   </td><td>2023</td><td>1</td><td>16</td><td>14</td></tr>\n",
              "\t<tr><td> 7</td><td> 7</td><td>The new movie release is a must-watch!           </td><td>Positive</td><td>2023-01-16 19:30:00</td><td>MovieBuff          </td><td>Instagram</td><td>#MovieNight #MustWatch           </td><td>15</td><td>30</td><td>USA      </td><td>2023</td><td>1</td><td>16</td><td>19</td></tr>\n",
              "\t<tr><td> 8</td><td> 8</td><td>Political discussions heating up on the timeline.</td><td>Negative</td><td>2023-01-17 08:00:00</td><td>DebateTalk         </td><td>Twitter  </td><td>#Politics #Debate                </td><td>30</td><td>60</td><td>USA      </td><td>2023</td><td>1</td><td>17</td><td> 8</td></tr>\n",
              "\t<tr><td> 9</td><td> 9</td><td>Missing summer vibes and beach days.             </td><td>Neutral </td><td>2023-01-17 12:20:00</td><td>BeachLover         </td><td>Facebook </td><td>#Summer #BeachDays               </td><td>18</td><td>35</td><td>Australia</td><td>2023</td><td>1</td><td>17</td><td>12</td></tr>\n",
              "\t<tr><td>10</td><td>10</td><td>Just published a new blog post. Check it out!    </td><td>Positive</td><td>2023-01-17 15:15:00</td><td>BloggerX           </td><td>Instagram</td><td>#Blogging #NewPost               </td><td>22</td><td>45</td><td>USA      </td><td>2023</td><td>1</td><td>17</td><td>15</td></tr>\n",
              "\t<tr><td>11</td><td>11</td><td>Feeling a bit under the weather today.           </td><td>Negative</td><td>2023-01-18 10:30:00</td><td>WellnessCheck      </td><td>Twitter  </td><td>#SickDay #Health                 </td><td> 7</td><td>15</td><td>Canada   </td><td>2023</td><td>1</td><td>18</td><td>10</td></tr>\n",
              "\t<tr><td>12</td><td>12</td><td>Exploring the city's hidden gems.                </td><td>Positive</td><td>2023-01-18 14:50:00</td><td>UrbanExplorer      </td><td>Facebook </td><td>#CityExplore #HiddenGems         </td><td>12</td><td>25</td><td>UK       </td><td>2023</td><td>1</td><td>18</td><td>14</td></tr>\n",
              "\t<tr><td>13</td><td>13</td><td>New year, new fitness goals! ðŸ’ª                </td><td>Positive</td><td>2023-01-18 18:00:00</td><td>FitJourney         </td><td>Instagram</td><td>#NewYear #FitnessGoals           </td><td>28</td><td>55</td><td>USA      </td><td>2023</td><td>1</td><td>18</td><td>18</td></tr>\n",
              "\t<tr><td>14</td><td>14</td><td>Technology is changing the way we live.          </td><td>Neutral </td><td>2023-01-19 09:45:00</td><td>TechEnthusiast     </td><td>Twitter  </td><td>#Tech #Innovation                </td><td>15</td><td>30</td><td>India    </td><td>2023</td><td>1</td><td>19</td><td> 9</td></tr>\n",
              "\t<tr><td>15</td><td>15</td><td>Reflecting on the past and looking ahead.        </td><td>Positive</td><td>2023-01-19 13:20:00</td><td>Reflections        </td><td>Facebook </td><td>#Reflection #Future              </td><td>20</td><td>40</td><td>USA      </td><td>2023</td><td>1</td><td>19</td><td>13</td></tr>\n",
              "\t<tr><td>16</td><td>16</td><td>Just adopted a cute furry friend! ðŸ¾      </td><td>Positive</td><td>2023-01-19 17:10:00</td><td>PetAdopter         </td><td>Instagram</td><td>#PetAdoption #FurryFriend        </td><td>15</td><td>30</td><td>Canada   </td><td>2023</td><td>1</td><td>19</td><td>17</td></tr>\n",
              "\t<tr><td>17</td><td>17</td><td>Late-night gaming session with friends.          </td><td>Positive</td><td>2023-01-20 00:05:00</td><td>GamerX             </td><td>Twitter  </td><td>#Gaming #LateNight               </td><td>18</td><td>35</td><td>UK       </td><td>2023</td><td>1</td><td>20</td><td> 0</td></tr>\n",
              "\t<tr><td>18</td><td>18</td><td>Attending a virtual conference on AI.            </td><td>Neutral </td><td>2023-01-20 11:30:00</td><td>TechConference     </td><td>Facebook </td><td>#AI #TechConference              </td><td>25</td><td>50</td><td>USA      </td><td>2023</td><td>1</td><td>20</td><td>11</td></tr>\n",
              "\t<tr><td>19</td><td>19</td><td>Winter blues got me feeling low.                 </td><td>Negative</td><td>2023-01-20 15:15:00</td><td>WinterBlues        </td><td>Instagram</td><td>#WinterBlues #Mood               </td><td> 8</td><td>15</td><td>USA      </td><td>2023</td><td>1</td><td>20</td><td>15</td></tr>\n",
              "\t<tr><td>20</td><td>20</td><td>Sipping coffee and enjoying a good book.         </td><td>Positive</td><td>2023-01-21 08:40:00</td><td>Bookworm           </td><td>Twitter  </td><td>#Reading #CoffeeTime             </td><td>22</td><td>45</td><td>India    </td><td>2023</td><td>1</td><td>21</td><td> 8</td></tr>\n",
              "\t<tr><td>21</td><td>21</td><td>Exploring the world of virtual reality.          </td><td>Positive</td><td>2023-01-21 13:20:00</td><td>VRExplorer         </td><td>Facebook </td><td>#VR #VirtualReality              </td><td>15</td><td>30</td><td>USA      </td><td>2023</td><td>1</td><td>21</td><td>13</td></tr>\n",
              "\t<tr><td>22</td><td>22</td><td>Productive day ticking off my to-do list.        </td><td>Positive</td><td>2023-01-21 16:45:00</td><td>ProductivityPro    </td><td>Instagram</td><td>#Productivity #WorkFromHome      </td><td>30</td><td>60</td><td>USA      </td><td>2023</td><td>1</td><td>21</td><td>16</td></tr>\n",
              "\t<tr><td>23</td><td>23</td><td>Just finished a challenging workout routine.     </td><td>Positive</td><td>2023-01-22 09:15:00</td><td>FitnessWarrior     </td><td>Twitter  </td><td>#Fitness #ChallengeAccepted      </td><td>20</td><td>40</td><td>UK       </td><td>2023</td><td>1</td><td>22</td><td> 9</td></tr>\n",
              "\t<tr><td>24</td><td>24</td><td>Celebrating a milestone at work! ðŸŽ‰            </td><td>Positive</td><td>2023-01-22 14:30:00</td><td>CareerMilestone    </td><td>Facebook </td><td>#Career #Milestone               </td><td>12</td><td>25</td><td>Canada   </td><td>2023</td><td>1</td><td>22</td><td>14</td></tr>\n",
              "\t<tr><td>25</td><td>25</td><td>Sunday brunch with friends.                      </td><td>Positive</td><td>2023-01-22 12:00:00</td><td>BrunchBuddy        </td><td>Instagram</td><td>#Brunch #Friends                 </td><td>15</td><td>30</td><td>UK       </td><td>2023</td><td>1</td><td>22</td><td>12</td></tr>\n",
              "\t<tr><td>27</td><td>28</td><td>Learning a new language for personal growth.     </td><td>Positive</td><td>2023-01-23 16:20:00</td><td>LanguageLearner    </td><td>Facebook </td><td>#LanguageLearning #PersonalGrowth</td><td>25</td><td>50</td><td>India    </td><td>2023</td><td>1</td><td>23</td><td>16</td></tr>\n",
              "\t<tr><td>28</td><td>29</td><td>Quiet evening with a good book.                  </td><td>Positive</td><td>2023-01-23 19:45:00</td><td>BookLover          </td><td>Instagram</td><td>#Reading #QuietTime              </td><td>15</td><td>30</td><td>Australia</td><td>2023</td><td>1</td><td>23</td><td>19</td></tr>\n",
              "\t<tr><td>29</td><td>30</td><td>Reflecting on the importance of mental health.   </td><td>Positive</td><td>2023-01-24 11:30:00</td><td>MentalHealthMatters</td><td>Twitter  </td><td>#MentalHealth #SelfCare          </td><td>22</td><td>45</td><td>USA      </td><td>2023</td><td>1</td><td>24</td><td>11</td></tr>\n",
              "\t<tr><td>30</td><td>31</td><td>New painting in progress! ðŸŽ¨                   </td><td>Positive</td><td>2023-01-24 15:00:00</td><td>ArtistInAction     </td><td>Facebook </td><td>#Art #PaintingInProgress         </td><td>12</td><td>25</td><td>Canada   </td><td>2023</td><td>1</td><td>24</td><td>15</td></tr>\n",
              "\t<tr><td>⋮</td><td>⋮</td><td>⋮</td><td>⋮</td><td>⋮</td><td>⋮</td><td>⋮</td><td>⋮</td><td>⋮</td><td>⋮</td><td>⋮</td><td>⋮</td><td>⋮</td><td>⋮</td><td>⋮</td></tr>\n",
              "\t<tr><td>703</td><td>707</td><td>Having a string of bad luck with constant technology malfunctions. Tech troubles galore!                                       </td><td>Bad    </td><td>2023-09-30 18:20:00</td><td>TechMalfunctionWoesHighSchool        </td><td>Instagram</td><td>#TechIssues #HighSchoolTech                </td><td>22</td><td>43</td><td>Canada</td><td>2023</td><td> 9</td><td>30</td><td>18</td></tr>\n",
              "\t<tr><td>704</td><td>708</td><td>Missing out on a long-anticipated event due to unexpected circumstances. A day filled with sadness.                            </td><td>Sad    </td><td>2023-10-01 14:15:00</td><td>MissedEventBluesHighSchool           </td><td>Facebook </td><td>#MissedMoments #HighSchoolRegret           </td><td>20</td><td>39</td><td>UK    </td><td>2023</td><td>10</td><td> 1</td><td>14</td></tr>\n",
              "\t<tr><td>705</td><td>709</td><td>Trying out a new study technique for upcoming exams. Exploring different learning strategies.                                  </td><td>Neutral</td><td>2023-10-02 16:45:00</td><td>StudyTechniqueExperimentHighSchool   </td><td>Instagram</td><td>#StudyStrategies #HighSchoolExams          </td><td>23</td><td>42</td><td>USA   </td><td>2023</td><td>10</td><td> 2</td><td>16</td></tr>\n",
              "\t<tr><td>706</td><td>710</td><td>Organizing a community cleanup event for a cleaner neighborhood. Promoting environmental awareness.                            </td><td>Neutral</td><td>2023-10-03 12:30:00</td><td>CommunityCleanupHighSchool           </td><td>Twitter  </td><td>#EnvironmentalEfforts #HighSchoolCommunity </td><td>26</td><td>50</td><td>Canada</td><td>2023</td><td>10</td><td> 3</td><td>12</td></tr>\n",
              "\t<tr><td>707</td><td>711</td><td>Sharing favorite book recommendations with classmates. Building a mini book club.                                              </td><td>Neutral</td><td>2023-10-04 18:20:00</td><td>BookRecommendationsHighSchool        </td><td>Facebook </td><td>#BookClub #HighSchoolReads                 </td><td>19</td><td>38</td><td>UK    </td><td>2023</td><td>10</td><td> 4</td><td>18</td></tr>\n",
              "\t<tr><td>708</td><td>712</td><td>Experimenting with a new recipe for a school bake sale. Baking adventures in the kitchen.                                      </td><td>Neutral</td><td>2023-10-05 14:15:00</td><td>BakeSaleRecipeExperimentHighSchool   </td><td>Instagram</td><td>#BakingAdventures #HighSchoolBakes         </td><td>21</td><td>43</td><td>USA   </td><td>2023</td><td>10</td><td> 5</td><td>14</td></tr>\n",
              "\t<tr><td>709</td><td>713</td><td>Collaborating on a school project with peers. Teamwork makes the dream work.                                                   </td><td>Neutral</td><td>2023-10-06 17:30:00</td><td>SchoolProjectCollaborationHighSchool </td><td>Twitter  </td><td>#Teamwork #HighSchoolProjects              </td><td>18</td><td>36</td><td>Canada</td><td>2023</td><td>10</td><td> 6</td><td>17</td></tr>\n",
              "\t<tr><td>710</td><td>714</td><td>Attending a school club meeting to explore new interests. Dabbling in extracurricular activities.                              </td><td>Neutral</td><td>2023-10-07 20:45:00</td><td>ExtracurricularExplorationHighSchool </td><td>Instagram</td><td>#SchoolClubs #HighSchoolInterests          </td><td>22</td><td>45</td><td>UK    </td><td>2023</td><td>10</td><td> 7</td><td>20</td></tr>\n",
              "\t<tr><td>711</td><td>715</td><td>Exploring a new part-time job opportunity for gaining work experience. Career development in progress.                         </td><td>Neutral</td><td>2023-10-08 15:15:00</td><td>PartTimeJobExplorationHighSchool     </td><td>Facebook </td><td>#CareerDevelopment #HighSchoolJobs         </td><td>24</td><td>48</td><td>USA   </td><td>2023</td><td>10</td><td> 8</td><td>15</td></tr>\n",
              "\t<tr><td>712</td><td>716</td><td>Attending a school assembly to stay informed about upcoming events and announcements. Staying connected with school activities.</td><td>Neutral</td><td>2023-10-09 22:00:00</td><td>SchoolAssemblyParticipationHighSchool</td><td>Twitter  </td><td>#SchoolEvents #HighSchoolConnectivity      </td><td>20</td><td>40</td><td>Canada</td><td>2023</td><td>10</td><td> 9</td><td>22</td></tr>\n",
              "\t<tr><td>713</td><td>717</td><td>Exploring a new hobby of photography during free time. Capturing moments through a lens.                                       </td><td>Neutral</td><td>2023-10-10 14:15:00</td><td>PhotographyHobbyHighSchool           </td><td>Instagram</td><td>#PhotographyJourney #HighSchoolHobbies     </td><td>25</td><td>49</td><td>UK    </td><td>2023</td><td>10</td><td>10</td><td>14</td></tr>\n",
              "\t<tr><td>714</td><td>718</td><td>Participating in a science fair to showcase a unique experiment. Sharing knowledge with peers.                                 </td><td>Neutral</td><td>2023-10-11 16:45:00</td><td>ScienceFairParticipationHighSchool   </td><td>Facebook </td><td>#ScienceFair #HighSchoolScience            </td><td>19</td><td>37</td><td>USA   </td><td>2023</td><td>10</td><td>11</td><td>16</td></tr>\n",
              "\t<tr><td>715</td><td>719</td><td>Attending a workshop on time management to enhance organizational skills. Striving for efficiency.                             </td><td>Neutral</td><td>2023-10-12 18:20:00</td><td>TimeManagementWorkshopHighSchool     </td><td>Twitter  </td><td>#EfficiencyGoals #HighSchoolSkills         </td><td>23</td><td>44</td><td>Canada</td><td>2023</td><td>10</td><td>12</td><td>18</td></tr>\n",
              "\t<tr><td>716</td><td>720</td><td>Volunteering at a local charity event to give back to the community. Contributing to social causes.                            </td><td>Neutral</td><td>2023-10-13 12:30:00</td><td>CharityEventVolunteerHighSchool      </td><td>Instagram</td><td>#CommunityService #HighSchoolVolunteer     </td><td>20</td><td>39</td><td>UK    </td><td>2023</td><td>10</td><td>13</td><td>12</td></tr>\n",
              "\t<tr><td>717</td><td>721</td><td>Collaborating on a group project to promote teamwork and shared responsibilities. Group effort in action.                      </td><td>Neutral</td><td>2023-10-14 17:30:00</td><td>GroupProjectCollaborationHighSchool  </td><td>Facebook </td><td>#TeamSpirit #HighSchoolProjects            </td><td>18</td><td>35</td><td>USA   </td><td>2023</td><td>10</td><td>14</td><td>17</td></tr>\n",
              "\t<tr><td>718</td><td>722</td><td>Participating in a debate club to enhance critical thinking and communication skills. Intellectual engagement in progress.     </td><td>Neutral</td><td>2023-10-15 20:45:00</td><td>DebateClubParticipationHighSchool    </td><td>Twitter  </td><td>#DebateSkills #HighSchoolIntellect         </td><td>22</td><td>43</td><td>Canada</td><td>2023</td><td>10</td><td>15</td><td>20</td></tr>\n",
              "\t<tr><td>719</td><td>723</td><td>Celebrating a friend's birthday with a surprise party. Joyful moments and laughter all around!                                 </td><td>Happy  </td><td>2023-10-16 15:45:00</td><td>BirthdaySurpriseHighSchool           </td><td>Instagram</td><td>#SurpriseParty #HighSchoolCelebration      </td><td>27</td><td>52</td><td>UK    </td><td>2023</td><td>10</td><td>16</td><td>15</td></tr>\n",
              "\t<tr><td>720</td><td>724</td><td>Successfully completing a challenging coding project. Excitement for overcoming coding hurdles!                                </td><td>Happy  </td><td>2023-10-17 12:30:00</td><td>CodingSuccessHighSchool              </td><td>Twitter  </td><td>#CodingTriumph #HighSchoolTech             </td><td>24</td><td>48</td><td>USA   </td><td>2023</td><td>10</td><td>17</td><td>12</td></tr>\n",
              "\t<tr><td>721</td><td>725</td><td>Attending a school talent show to support classmates. Applauding the diverse talents on display!                               </td><td>Happy  </td><td>2023-10-18 16:45:00</td><td>TalentShowSupportHighSchool          </td><td>Facebook </td><td>#TalentShow #HighSchoolEntertainment       </td><td>19</td><td>38</td><td>Canada</td><td>2023</td><td>10</td><td>18</td><td>16</td></tr>\n",
              "\t<tr><td>722</td><td>726</td><td>Exploring a new hiking trail with friends over the weekend. Nature, laughter, and good vibes!                                  </td><td>Happy  </td><td>2023-10-19 18:20:00</td><td>WeekendHikeHighSchool                </td><td>Instagram</td><td>#NatureAdventures #HighSchoolFriends       </td><td>21</td><td>42</td><td>UK    </td><td>2023</td><td>10</td><td>19</td><td>18</td></tr>\n",
              "\t<tr><td>723</td><td>727</td><td>Winning a friendly sports competition against rival schools. Victory celebrations in full swing!                               </td><td>Happy  </td><td>2023-10-20 14:15:00</td><td>SportsVictoryHighSchool              </td><td>Twitter  </td><td>#SportsTriumph #HighSchoolAthletics        </td><td>26</td><td>50</td><td>USA   </td><td>2023</td><td>10</td><td>20</td><td>14</td></tr>\n",
              "\t<tr><td>724</td><td>728</td><td>Receiving a heartfelt letter from a pen pal in another country. Connecting across the globe!                                   </td><td>Happy  </td><td>2023-10-21 17:30:00</td><td>PenPalConnectionHighSchool           </td><td>Facebook </td><td>#GlobalFriendship #HighSchoolCorrespondence</td><td>23</td><td>45</td><td>Canada</td><td>2023</td><td>10</td><td>21</td><td>17</td></tr>\n",
              "\t<tr><td>725</td><td>729</td><td>Creating a beautiful mural with fellow art enthusiasts. The power of collaboration and creativity!                             </td><td>Happy  </td><td>2023-10-22 20:45:00</td><td>MuralCreationHighSchool              </td><td>Instagram</td><td>#ArtCollaboration #HighSchoolCreativity    </td><td>22</td><td>43</td><td>UK    </td><td>2023</td><td>10</td><td>22</td><td>20</td></tr>\n",
              "\t<tr><td>726</td><td>730</td><td>Participating in a school-wide art exhibition. Witnessing creativity and spreading positive vibes!                             </td><td>Happy  </td><td>2015-11-10 16:45:00</td><td>ArtExhibitionJoyHighSchool           </td><td>Instagram</td><td>#ArtisticExpression #HighSchoolCreativity  </td><td>23</td><td>44</td><td>USA   </td><td>2015</td><td>11</td><td>10</td><td>16</td></tr>\n",
              "\t<tr><td>727</td><td>731</td><td>Achieving a personal best in a track and field competition. The thrill of victory and self-improvement!                        </td><td>Happy  </td><td>2016-09-14 12:30:00</td><td>TrackFieldSuccessHighSchool          </td><td>Twitter  </td><td>#AthleticAchievement #HighSchoolSports     </td><td>26</td><td>51</td><td>Canada</td><td>2016</td><td> 9</td><td>14</td><td>12</td></tr>\n",
              "\t<tr><td>728</td><td>732</td><td>Collaborating on a science project that received recognition at a regional fair. Science triumphs and smiles!                  </td><td>Happy  </td><td>2017-08-18 18:20:00</td><td>ScienceProjectSuccessHighSchool      </td><td>Facebook </td><td>#ScienceFairWinner #HighSchoolScience      </td><td>20</td><td>39</td><td>UK    </td><td>2017</td><td> 8</td><td>18</td><td>18</td></tr>\n",
              "\t<tr><td>729</td><td>733</td><td>Attending a surprise birthday party organized by friends. Surrounded by love, laughter, and good company!                      </td><td>Happy  </td><td>2018-06-22 14:15:00</td><td>BirthdayPartyJoyHighSchool           </td><td>Instagram</td><td>#SurpriseCelebration #HighSchoolFriendship </td><td>25</td><td>48</td><td>USA   </td><td>2018</td><td> 6</td><td>22</td><td>14</td></tr>\n",
              "\t<tr><td>730</td><td>734</td><td>Successfully fundraising for a school charity initiative. The joy of giving back to the community!                             </td><td>Happy  </td><td>2019-04-05 17:30:00</td><td>CharityFundraisingTriumphHighSchool  </td><td>Twitter  </td><td>#CommunityGiving #HighSchoolPhilanthropy   </td><td>22</td><td>42</td><td>Canada</td><td>2019</td><td> 4</td><td> 5</td><td>17</td></tr>\n",
              "\t<tr><td>731</td><td>735</td><td>Participating in a multicultural festival, celebrating diversity with music, dance, and delicious food!                        </td><td>Happy  </td><td>2020-02-29 20:45:00</td><td>MulticulturalFestivalJoyHighSchool   </td><td>Facebook </td><td>#CulturalCelebration #HighSchoolUnity      </td><td>21</td><td>43</td><td>UK    </td><td>2020</td><td> 2</td><td>29</td><td>20</td></tr>\n",
              "\t<tr><td>732</td><td>736</td><td>Organizing a virtual talent show during challenging times, bringing smiles to classmates' faces!                               </td><td>Happy  </td><td>2020-11-15 15:15:00</td><td>VirtualTalentShowSuccessHighSchool   </td><td>Instagram</td><td>#VirtualEntertainment #HighSchoolPositivity</td><td>24</td><td>47</td><td>USA   </td><td>2020</td><td>11</td><td>15</td><td>15</td></tr>\n",
              "</tbody>\n",
              "</table>\n"
            ],
            "text/markdown": "\nA tibble: 732 × 15\n\n| ...1 &lt;dbl&gt; | Unnamed: 0 &lt;dbl&gt; | Text &lt;chr&gt; | Sentiment &lt;chr&gt; | Timestamp &lt;dttm&gt; | User &lt;chr&gt; | Platform &lt;chr&gt; | Hashtags &lt;chr&gt; | Retweets &lt;dbl&gt; | Likes &lt;dbl&gt; | Country &lt;chr&gt; | Year &lt;dbl&gt; | Month &lt;dbl&gt; | Day &lt;dbl&gt; | Hour &lt;dbl&gt; |\n|---|---|---|---|---|---|---|---|---|---|---|---|---|---|---|\n|  0 |  0 | Enjoying a beautiful day at the park!             | Positive | 2023-01-15 12:30:00 | User123             | Twitter   | #Nature #Park                     | 15 | 30 | USA       | 2023 | 1 | 15 | 12 |\n|  1 |  1 | Traffic was terrible this morning.                | Negative | 2023-01-15 08:45:00 | CommuterX           | Twitter   | #Traffic #Morning                 |  5 | 10 | Canada    | 2023 | 1 | 15 |  8 |\n|  2 |  2 | Just finished an amazing workout! ðŸ’ª            | Positive | 2023-01-15 15:45:00 | FitnessFan          | Instagram | #Fitness #Workout                 | 20 | 40 | USA       | 2023 | 1 | 15 | 15 |\n|  3 |  3 | Excited about the upcoming weekend getaway!       | Positive | 2023-01-15 18:20:00 | AdventureX          | Facebook  | #Travel #Adventure                |  8 | 15 | UK        | 2023 | 1 | 15 | 18 |\n|  4 |  4 | Trying out a new recipe for dinner tonight.       | Neutral  | 2023-01-15 19:55:00 | ChefCook            | Instagram | #Cooking #Food                    | 12 | 25 | Australia | 2023 | 1 | 15 | 19 |\n|  5 |  5 | Feeling grateful for the little things in life.   | Positive | 2023-01-16 09:10:00 | GratitudeNow        | Twitter   | #Gratitude #PositiveVibes         | 25 | 50 | India     | 2023 | 1 | 16 |  9 |\n|  6 |  6 | Rainy days call for cozy blankets and hot cocoa.  | Positive | 2023-01-16 14:45:00 | RainyDays           | Facebook  | #RainyDays #Cozy                  | 10 | 20 | Canada    | 2023 | 1 | 16 | 14 |\n|  7 |  7 | The new movie release is a must-watch!            | Positive | 2023-01-16 19:30:00 | MovieBuff           | Instagram | #MovieNight #MustWatch            | 15 | 30 | USA       | 2023 | 1 | 16 | 19 |\n|  8 |  8 | Political discussions heating up on the timeline. | Negative | 2023-01-17 08:00:00 | DebateTalk          | Twitter   | #Politics #Debate                 | 30 | 60 | USA       | 2023 | 1 | 17 |  8 |\n|  9 |  9 | Missing summer vibes and beach days.              | Neutral  | 2023-01-17 12:20:00 | BeachLover          | Facebook  | #Summer #BeachDays                | 18 | 35 | Australia | 2023 | 1 | 17 | 12 |\n| 10 | 10 | Just published a new blog post. Check it out!     | Positive | 2023-01-17 15:15:00 | BloggerX            | Instagram | #Blogging #NewPost                | 22 | 45 | USA       | 2023 | 1 | 17 | 15 |\n| 11 | 11 | Feeling a bit under the weather today.            | Negative | 2023-01-18 10:30:00 | WellnessCheck       | Twitter   | #SickDay #Health                  |  7 | 15 | Canada    | 2023 | 1 | 18 | 10 |\n| 12 | 12 | Exploring the city's hidden gems.                 | Positive | 2023-01-18 14:50:00 | UrbanExplorer       | Facebook  | #CityExplore #HiddenGems          | 12 | 25 | UK        | 2023 | 1 | 18 | 14 |\n| 13 | 13 | New year, new fitness goals! ðŸ’ª                 | Positive | 2023-01-18 18:00:00 | FitJourney          | Instagram | #NewYear #FitnessGoals            | 28 | 55 | USA       | 2023 | 1 | 18 | 18 |\n| 14 | 14 | Technology is changing the way we live.           | Neutral  | 2023-01-19 09:45:00 | TechEnthusiast      | Twitter   | #Tech #Innovation                 | 15 | 30 | India     | 2023 | 1 | 19 |  9 |\n| 15 | 15 | Reflecting on the past and looking ahead.         | Positive | 2023-01-19 13:20:00 | Reflections         | Facebook  | #Reflection #Future               | 20 | 40 | USA       | 2023 | 1 | 19 | 13 |\n| 16 | 16 | Just adopted a cute furry friend! ðŸ¾       | Positive | 2023-01-19 17:10:00 | PetAdopter          | Instagram | #PetAdoption #FurryFriend         | 15 | 30 | Canada    | 2023 | 1 | 19 | 17 |\n| 17 | 17 | Late-night gaming session with friends.           | Positive | 2023-01-20 00:05:00 | GamerX              | Twitter   | #Gaming #LateNight                | 18 | 35 | UK        | 2023 | 1 | 20 |  0 |\n| 18 | 18 | Attending a virtual conference on AI.             | Neutral  | 2023-01-20 11:30:00 | TechConference      | Facebook  | #AI #TechConference               | 25 | 50 | USA       | 2023 | 1 | 20 | 11 |\n| 19 | 19 | Winter blues got me feeling low.                  | Negative | 2023-01-20 15:15:00 | WinterBlues         | Instagram | #WinterBlues #Mood                |  8 | 15 | USA       | 2023 | 1 | 20 | 15 |\n| 20 | 20 | Sipping coffee and enjoying a good book.          | Positive | 2023-01-21 08:40:00 | Bookworm            | Twitter   | #Reading #CoffeeTime              | 22 | 45 | India     | 2023 | 1 | 21 |  8 |\n| 21 | 21 | Exploring the world of virtual reality.           | Positive | 2023-01-21 13:20:00 | VRExplorer          | Facebook  | #VR #VirtualReality               | 15 | 30 | USA       | 2023 | 1 | 21 | 13 |\n| 22 | 22 | Productive day ticking off my to-do list.         | Positive | 2023-01-21 16:45:00 | ProductivityPro     | Instagram | #Productivity #WorkFromHome       | 30 | 60 | USA       | 2023 | 1 | 21 | 16 |\n| 23 | 23 | Just finished a challenging workout routine.      | Positive | 2023-01-22 09:15:00 | FitnessWarrior      | Twitter   | #Fitness #ChallengeAccepted       | 20 | 40 | UK        | 2023 | 1 | 22 |  9 |\n| 24 | 24 | Celebrating a milestone at work! ðŸŽ‰             | Positive | 2023-01-22 14:30:00 | CareerMilestone     | Facebook  | #Career #Milestone                | 12 | 25 | Canada    | 2023 | 1 | 22 | 14 |\n| 25 | 25 | Sunday brunch with friends.                       | Positive | 2023-01-22 12:00:00 | BrunchBuddy         | Instagram | #Brunch #Friends                  | 15 | 30 | UK        | 2023 | 1 | 22 | 12 |\n| 27 | 28 | Learning a new language for personal growth.      | Positive | 2023-01-23 16:20:00 | LanguageLearner     | Facebook  | #LanguageLearning #PersonalGrowth | 25 | 50 | India     | 2023 | 1 | 23 | 16 |\n| 28 | 29 | Quiet evening with a good book.                   | Positive | 2023-01-23 19:45:00 | BookLover           | Instagram | #Reading #QuietTime               | 15 | 30 | Australia | 2023 | 1 | 23 | 19 |\n| 29 | 30 | Reflecting on the importance of mental health.    | Positive | 2023-01-24 11:30:00 | MentalHealthMatters | Twitter   | #MentalHealth #SelfCare           | 22 | 45 | USA       | 2023 | 1 | 24 | 11 |\n| 30 | 31 | New painting in progress! ðŸŽ¨                    | Positive | 2023-01-24 15:00:00 | ArtistInAction      | Facebook  | #Art #PaintingInProgress          | 12 | 25 | Canada    | 2023 | 1 | 24 | 15 |\n| ⋮ | ⋮ | ⋮ | ⋮ | ⋮ | ⋮ | ⋮ | ⋮ | ⋮ | ⋮ | ⋮ | ⋮ | ⋮ | ⋮ | ⋮ |\n| 703 | 707 | Having a string of bad luck with constant technology malfunctions. Tech troubles galore!                                        | Bad     | 2023-09-30 18:20:00 | TechMalfunctionWoesHighSchool         | Instagram | #TechIssues #HighSchoolTech                 | 22 | 43 | Canada | 2023 |  9 | 30 | 18 |\n| 704 | 708 | Missing out on a long-anticipated event due to unexpected circumstances. A day filled with sadness.                             | Sad     | 2023-10-01 14:15:00 | MissedEventBluesHighSchool            | Facebook  | #MissedMoments #HighSchoolRegret            | 20 | 39 | UK     | 2023 | 10 |  1 | 14 |\n| 705 | 709 | Trying out a new study technique for upcoming exams. Exploring different learning strategies.                                   | Neutral | 2023-10-02 16:45:00 | StudyTechniqueExperimentHighSchool    | Instagram | #StudyStrategies #HighSchoolExams           | 23 | 42 | USA    | 2023 | 10 |  2 | 16 |\n| 706 | 710 | Organizing a community cleanup event for a cleaner neighborhood. Promoting environmental awareness.                             | Neutral | 2023-10-03 12:30:00 | CommunityCleanupHighSchool            | Twitter   | #EnvironmentalEfforts #HighSchoolCommunity  | 26 | 50 | Canada | 2023 | 10 |  3 | 12 |\n| 707 | 711 | Sharing favorite book recommendations with classmates. Building a mini book club.                                               | Neutral | 2023-10-04 18:20:00 | BookRecommendationsHighSchool         | Facebook  | #BookClub #HighSchoolReads                  | 19 | 38 | UK     | 2023 | 10 |  4 | 18 |\n| 708 | 712 | Experimenting with a new recipe for a school bake sale. Baking adventures in the kitchen.                                       | Neutral | 2023-10-05 14:15:00 | BakeSaleRecipeExperimentHighSchool    | Instagram | #BakingAdventures #HighSchoolBakes          | 21 | 43 | USA    | 2023 | 10 |  5 | 14 |\n| 709 | 713 | Collaborating on a school project with peers. Teamwork makes the dream work.                                                    | Neutral | 2023-10-06 17:30:00 | SchoolProjectCollaborationHighSchool  | Twitter   | #Teamwork #HighSchoolProjects               | 18 | 36 | Canada | 2023 | 10 |  6 | 17 |\n| 710 | 714 | Attending a school club meeting to explore new interests. Dabbling in extracurricular activities.                               | Neutral | 2023-10-07 20:45:00 | ExtracurricularExplorationHighSchool  | Instagram | #SchoolClubs #HighSchoolInterests           | 22 | 45 | UK     | 2023 | 10 |  7 | 20 |\n| 711 | 715 | Exploring a new part-time job opportunity for gaining work experience. Career development in progress.                          | Neutral | 2023-10-08 15:15:00 | PartTimeJobExplorationHighSchool      | Facebook  | #CareerDevelopment #HighSchoolJobs          | 24 | 48 | USA    | 2023 | 10 |  8 | 15 |\n| 712 | 716 | Attending a school assembly to stay informed about upcoming events and announcements. Staying connected with school activities. | Neutral | 2023-10-09 22:00:00 | SchoolAssemblyParticipationHighSchool | Twitter   | #SchoolEvents #HighSchoolConnectivity       | 20 | 40 | Canada | 2023 | 10 |  9 | 22 |\n| 713 | 717 | Exploring a new hobby of photography during free time. Capturing moments through a lens.                                        | Neutral | 2023-10-10 14:15:00 | PhotographyHobbyHighSchool            | Instagram | #PhotographyJourney #HighSchoolHobbies      | 25 | 49 | UK     | 2023 | 10 | 10 | 14 |\n| 714 | 718 | Participating in a science fair to showcase a unique experiment. Sharing knowledge with peers.                                  | Neutral | 2023-10-11 16:45:00 | ScienceFairParticipationHighSchool    | Facebook  | #ScienceFair #HighSchoolScience             | 19 | 37 | USA    | 2023 | 10 | 11 | 16 |\n| 715 | 719 | Attending a workshop on time management to enhance organizational skills. Striving for efficiency.                              | Neutral | 2023-10-12 18:20:00 | TimeManagementWorkshopHighSchool      | Twitter   | #EfficiencyGoals #HighSchoolSkills          | 23 | 44 | Canada | 2023 | 10 | 12 | 18 |\n| 716 | 720 | Volunteering at a local charity event to give back to the community. Contributing to social causes.                             | Neutral | 2023-10-13 12:30:00 | CharityEventVolunteerHighSchool       | Instagram | #CommunityService #HighSchoolVolunteer      | 20 | 39 | UK     | 2023 | 10 | 13 | 12 |\n| 717 | 721 | Collaborating on a group project to promote teamwork and shared responsibilities. Group effort in action.                       | Neutral | 2023-10-14 17:30:00 | GroupProjectCollaborationHighSchool   | Facebook  | #TeamSpirit #HighSchoolProjects             | 18 | 35 | USA    | 2023 | 10 | 14 | 17 |\n| 718 | 722 | Participating in a debate club to enhance critical thinking and communication skills. Intellectual engagement in progress.      | Neutral | 2023-10-15 20:45:00 | DebateClubParticipationHighSchool     | Twitter   | #DebateSkills #HighSchoolIntellect          | 22 | 43 | Canada | 2023 | 10 | 15 | 20 |\n| 719 | 723 | Celebrating a friend's birthday with a surprise party. Joyful moments and laughter all around!                                  | Happy   | 2023-10-16 15:45:00 | BirthdaySurpriseHighSchool            | Instagram | #SurpriseParty #HighSchoolCelebration       | 27 | 52 | UK     | 2023 | 10 | 16 | 15 |\n| 720 | 724 | Successfully completing a challenging coding project. Excitement for overcoming coding hurdles!                                 | Happy   | 2023-10-17 12:30:00 | CodingSuccessHighSchool               | Twitter   | #CodingTriumph #HighSchoolTech              | 24 | 48 | USA    | 2023 | 10 | 17 | 12 |\n| 721 | 725 | Attending a school talent show to support classmates. Applauding the diverse talents on display!                                | Happy   | 2023-10-18 16:45:00 | TalentShowSupportHighSchool           | Facebook  | #TalentShow #HighSchoolEntertainment        | 19 | 38 | Canada | 2023 | 10 | 18 | 16 |\n| 722 | 726 | Exploring a new hiking trail with friends over the weekend. Nature, laughter, and good vibes!                                   | Happy   | 2023-10-19 18:20:00 | WeekendHikeHighSchool                 | Instagram | #NatureAdventures #HighSchoolFriends        | 21 | 42 | UK     | 2023 | 10 | 19 | 18 |\n| 723 | 727 | Winning a friendly sports competition against rival schools. Victory celebrations in full swing!                                | Happy   | 2023-10-20 14:15:00 | SportsVictoryHighSchool               | Twitter   | #SportsTriumph #HighSchoolAthletics         | 26 | 50 | USA    | 2023 | 10 | 20 | 14 |\n| 724 | 728 | Receiving a heartfelt letter from a pen pal in another country. Connecting across the globe!                                    | Happy   | 2023-10-21 17:30:00 | PenPalConnectionHighSchool            | Facebook  | #GlobalFriendship #HighSchoolCorrespondence | 23 | 45 | Canada | 2023 | 10 | 21 | 17 |\n| 725 | 729 | Creating a beautiful mural with fellow art enthusiasts. The power of collaboration and creativity!                              | Happy   | 2023-10-22 20:45:00 | MuralCreationHighSchool               | Instagram | #ArtCollaboration #HighSchoolCreativity     | 22 | 43 | UK     | 2023 | 10 | 22 | 20 |\n| 726 | 730 | Participating in a school-wide art exhibition. Witnessing creativity and spreading positive vibes!                              | Happy   | 2015-11-10 16:45:00 | ArtExhibitionJoyHighSchool            | Instagram | #ArtisticExpression #HighSchoolCreativity   | 23 | 44 | USA    | 2015 | 11 | 10 | 16 |\n| 727 | 731 | Achieving a personal best in a track and field competition. The thrill of victory and self-improvement!                         | Happy   | 2016-09-14 12:30:00 | TrackFieldSuccessHighSchool           | Twitter   | #AthleticAchievement #HighSchoolSports      | 26 | 51 | Canada | 2016 |  9 | 14 | 12 |\n| 728 | 732 | Collaborating on a science project that received recognition at a regional fair. Science triumphs and smiles!                   | Happy   | 2017-08-18 18:20:00 | ScienceProjectSuccessHighSchool       | Facebook  | #ScienceFairWinner #HighSchoolScience       | 20 | 39 | UK     | 2017 |  8 | 18 | 18 |\n| 729 | 733 | Attending a surprise birthday party organized by friends. Surrounded by love, laughter, and good company!                       | Happy   | 2018-06-22 14:15:00 | BirthdayPartyJoyHighSchool            | Instagram | #SurpriseCelebration #HighSchoolFriendship  | 25 | 48 | USA    | 2018 |  6 | 22 | 14 |\n| 730 | 734 | Successfully fundraising for a school charity initiative. The joy of giving back to the community!                              | Happy   | 2019-04-05 17:30:00 | CharityFundraisingTriumphHighSchool   | Twitter   | #CommunityGiving #HighSchoolPhilanthropy    | 22 | 42 | Canada | 2019 |  4 |  5 | 17 |\n| 731 | 735 | Participating in a multicultural festival, celebrating diversity with music, dance, and delicious food!                         | Happy   | 2020-02-29 20:45:00 | MulticulturalFestivalJoyHighSchool    | Facebook  | #CulturalCelebration #HighSchoolUnity       | 21 | 43 | UK     | 2020 |  2 | 29 | 20 |\n| 732 | 736 | Organizing a virtual talent show during challenging times, bringing smiles to classmates' faces!                                | Happy   | 2020-11-15 15:15:00 | VirtualTalentShowSuccessHighSchool    | Instagram | #VirtualEntertainment #HighSchoolPositivity | 24 | 47 | USA    | 2020 | 11 | 15 | 15 |\n\n",
            "text/latex": "A tibble: 732 × 15\n\\begin{tabular}{lllllllllllllll}\n ...1 & Unnamed: 0 & Text & Sentiment & Timestamp & User & Platform & Hashtags & Retweets & Likes & Country & Year & Month & Day & Hour\\\\\n <dbl> & <dbl> & <chr> & <chr> & <dttm> & <chr> & <chr> & <chr> & <dbl> & <dbl> & <chr> & <dbl> & <dbl> & <dbl> & <dbl>\\\\\n\\hline\n\t  0 &  0 & Enjoying a beautiful day at the park!             & Positive & 2023-01-15 12:30:00 & User123             & Twitter   & \\#Nature \\#Park                     & 15 & 30 & USA       & 2023 & 1 & 15 & 12\\\\\n\t  1 &  1 & Traffic was terrible this morning.                & Negative & 2023-01-15 08:45:00 & CommuterX           & Twitter   & \\#Traffic \\#Morning                 &  5 & 10 & Canada    & 2023 & 1 & 15 &  8\\\\\n\t  2 &  2 & Just finished an amazing workout! ðŸ’ª            & Positive & 2023-01-15 15:45:00 & FitnessFan          & Instagram & \\#Fitness \\#Workout                 & 20 & 40 & USA       & 2023 & 1 & 15 & 15\\\\\n\t  3 &  3 & Excited about the upcoming weekend getaway!       & Positive & 2023-01-15 18:20:00 & AdventureX          & Facebook  & \\#Travel \\#Adventure                &  8 & 15 & UK        & 2023 & 1 & 15 & 18\\\\\n\t  4 &  4 & Trying out a new recipe for dinner tonight.       & Neutral  & 2023-01-15 19:55:00 & ChefCook            & Instagram & \\#Cooking \\#Food                    & 12 & 25 & Australia & 2023 & 1 & 15 & 19\\\\\n\t  5 &  5 & Feeling grateful for the little things in life.   & Positive & 2023-01-16 09:10:00 & GratitudeNow        & Twitter   & \\#Gratitude \\#PositiveVibes         & 25 & 50 & India     & 2023 & 1 & 16 &  9\\\\\n\t  6 &  6 & Rainy days call for cozy blankets and hot cocoa.  & Positive & 2023-01-16 14:45:00 & RainyDays           & Facebook  & \\#RainyDays \\#Cozy                  & 10 & 20 & Canada    & 2023 & 1 & 16 & 14\\\\\n\t  7 &  7 & The new movie release is a must-watch!            & Positive & 2023-01-16 19:30:00 & MovieBuff           & Instagram & \\#MovieNight \\#MustWatch            & 15 & 30 & USA       & 2023 & 1 & 16 & 19\\\\\n\t  8 &  8 & Political discussions heating up on the timeline. & Negative & 2023-01-17 08:00:00 & DebateTalk          & Twitter   & \\#Politics \\#Debate                 & 30 & 60 & USA       & 2023 & 1 & 17 &  8\\\\\n\t  9 &  9 & Missing summer vibes and beach days.              & Neutral  & 2023-01-17 12:20:00 & BeachLover          & Facebook  & \\#Summer \\#BeachDays                & 18 & 35 & Australia & 2023 & 1 & 17 & 12\\\\\n\t 10 & 10 & Just published a new blog post. Check it out!     & Positive & 2023-01-17 15:15:00 & BloggerX            & Instagram & \\#Blogging \\#NewPost                & 22 & 45 & USA       & 2023 & 1 & 17 & 15\\\\\n\t 11 & 11 & Feeling a bit under the weather today.            & Negative & 2023-01-18 10:30:00 & WellnessCheck       & Twitter   & \\#SickDay \\#Health                  &  7 & 15 & Canada    & 2023 & 1 & 18 & 10\\\\\n\t 12 & 12 & Exploring the city's hidden gems.                 & Positive & 2023-01-18 14:50:00 & UrbanExplorer       & Facebook  & \\#CityExplore \\#HiddenGems          & 12 & 25 & UK        & 2023 & 1 & 18 & 14\\\\\n\t 13 & 13 & New year, new fitness goals! ðŸ’ª                 & Positive & 2023-01-18 18:00:00 & FitJourney          & Instagram & \\#NewYear \\#FitnessGoals            & 28 & 55 & USA       & 2023 & 1 & 18 & 18\\\\\n\t 14 & 14 & Technology is changing the way we live.           & Neutral  & 2023-01-19 09:45:00 & TechEnthusiast      & Twitter   & \\#Tech \\#Innovation                 & 15 & 30 & India     & 2023 & 1 & 19 &  9\\\\\n\t 15 & 15 & Reflecting on the past and looking ahead.         & Positive & 2023-01-19 13:20:00 & Reflections         & Facebook  & \\#Reflection \\#Future               & 20 & 40 & USA       & 2023 & 1 & 19 & 13\\\\\n\t 16 & 16 & Just adopted a cute furry friend! ðŸ¾       & Positive & 2023-01-19 17:10:00 & PetAdopter          & Instagram & \\#PetAdoption \\#FurryFriend         & 15 & 30 & Canada    & 2023 & 1 & 19 & 17\\\\\n\t 17 & 17 & Late-night gaming session with friends.           & Positive & 2023-01-20 00:05:00 & GamerX              & Twitter   & \\#Gaming \\#LateNight                & 18 & 35 & UK        & 2023 & 1 & 20 &  0\\\\\n\t 18 & 18 & Attending a virtual conference on AI.             & Neutral  & 2023-01-20 11:30:00 & TechConference      & Facebook  & \\#AI \\#TechConference               & 25 & 50 & USA       & 2023 & 1 & 20 & 11\\\\\n\t 19 & 19 & Winter blues got me feeling low.                  & Negative & 2023-01-20 15:15:00 & WinterBlues         & Instagram & \\#WinterBlues \\#Mood                &  8 & 15 & USA       & 2023 & 1 & 20 & 15\\\\\n\t 20 & 20 & Sipping coffee and enjoying a good book.          & Positive & 2023-01-21 08:40:00 & Bookworm            & Twitter   & \\#Reading \\#CoffeeTime              & 22 & 45 & India     & 2023 & 1 & 21 &  8\\\\\n\t 21 & 21 & Exploring the world of virtual reality.           & Positive & 2023-01-21 13:20:00 & VRExplorer          & Facebook  & \\#VR \\#VirtualReality               & 15 & 30 & USA       & 2023 & 1 & 21 & 13\\\\\n\t 22 & 22 & Productive day ticking off my to-do list.         & Positive & 2023-01-21 16:45:00 & ProductivityPro     & Instagram & \\#Productivity \\#WorkFromHome       & 30 & 60 & USA       & 2023 & 1 & 21 & 16\\\\\n\t 23 & 23 & Just finished a challenging workout routine.      & Positive & 2023-01-22 09:15:00 & FitnessWarrior      & Twitter   & \\#Fitness \\#ChallengeAccepted       & 20 & 40 & UK        & 2023 & 1 & 22 &  9\\\\\n\t 24 & 24 & Celebrating a milestone at work! ðŸŽ‰             & Positive & 2023-01-22 14:30:00 & CareerMilestone     & Facebook  & \\#Career \\#Milestone                & 12 & 25 & Canada    & 2023 & 1 & 22 & 14\\\\\n\t 25 & 25 & Sunday brunch with friends.                       & Positive & 2023-01-22 12:00:00 & BrunchBuddy         & Instagram & \\#Brunch \\#Friends                  & 15 & 30 & UK        & 2023 & 1 & 22 & 12\\\\\n\t 27 & 28 & Learning a new language for personal growth.      & Positive & 2023-01-23 16:20:00 & LanguageLearner     & Facebook  & \\#LanguageLearning \\#PersonalGrowth & 25 & 50 & India     & 2023 & 1 & 23 & 16\\\\\n\t 28 & 29 & Quiet evening with a good book.                   & Positive & 2023-01-23 19:45:00 & BookLover           & Instagram & \\#Reading \\#QuietTime               & 15 & 30 & Australia & 2023 & 1 & 23 & 19\\\\\n\t 29 & 30 & Reflecting on the importance of mental health.    & Positive & 2023-01-24 11:30:00 & MentalHealthMatters & Twitter   & \\#MentalHealth \\#SelfCare           & 22 & 45 & USA       & 2023 & 1 & 24 & 11\\\\\n\t 30 & 31 & New painting in progress! ðŸŽ¨                    & Positive & 2023-01-24 15:00:00 & ArtistInAction      & Facebook  & \\#Art \\#PaintingInProgress          & 12 & 25 & Canada    & 2023 & 1 & 24 & 15\\\\\n\t ⋮ & ⋮ & ⋮ & ⋮ & ⋮ & ⋮ & ⋮ & ⋮ & ⋮ & ⋮ & ⋮ & ⋮ & ⋮ & ⋮ & ⋮\\\\\n\t 703 & 707 & Having a string of bad luck with constant technology malfunctions. Tech troubles galore!                                        & Bad     & 2023-09-30 18:20:00 & TechMalfunctionWoesHighSchool         & Instagram & \\#TechIssues \\#HighSchoolTech                 & 22 & 43 & Canada & 2023 &  9 & 30 & 18\\\\\n\t 704 & 708 & Missing out on a long-anticipated event due to unexpected circumstances. A day filled with sadness.                             & Sad     & 2023-10-01 14:15:00 & MissedEventBluesHighSchool            & Facebook  & \\#MissedMoments \\#HighSchoolRegret            & 20 & 39 & UK     & 2023 & 10 &  1 & 14\\\\\n\t 705 & 709 & Trying out a new study technique for upcoming exams. Exploring different learning strategies.                                   & Neutral & 2023-10-02 16:45:00 & StudyTechniqueExperimentHighSchool    & Instagram & \\#StudyStrategies \\#HighSchoolExams           & 23 & 42 & USA    & 2023 & 10 &  2 & 16\\\\\n\t 706 & 710 & Organizing a community cleanup event for a cleaner neighborhood. Promoting environmental awareness.                             & Neutral & 2023-10-03 12:30:00 & CommunityCleanupHighSchool            & Twitter   & \\#EnvironmentalEfforts \\#HighSchoolCommunity  & 26 & 50 & Canada & 2023 & 10 &  3 & 12\\\\\n\t 707 & 711 & Sharing favorite book recommendations with classmates. Building a mini book club.                                               & Neutral & 2023-10-04 18:20:00 & BookRecommendationsHighSchool         & Facebook  & \\#BookClub \\#HighSchoolReads                  & 19 & 38 & UK     & 2023 & 10 &  4 & 18\\\\\n\t 708 & 712 & Experimenting with a new recipe for a school bake sale. Baking adventures in the kitchen.                                       & Neutral & 2023-10-05 14:15:00 & BakeSaleRecipeExperimentHighSchool    & Instagram & \\#BakingAdventures \\#HighSchoolBakes          & 21 & 43 & USA    & 2023 & 10 &  5 & 14\\\\\n\t 709 & 713 & Collaborating on a school project with peers. Teamwork makes the dream work.                                                    & Neutral & 2023-10-06 17:30:00 & SchoolProjectCollaborationHighSchool  & Twitter   & \\#Teamwork \\#HighSchoolProjects               & 18 & 36 & Canada & 2023 & 10 &  6 & 17\\\\\n\t 710 & 714 & Attending a school club meeting to explore new interests. Dabbling in extracurricular activities.                               & Neutral & 2023-10-07 20:45:00 & ExtracurricularExplorationHighSchool  & Instagram & \\#SchoolClubs \\#HighSchoolInterests           & 22 & 45 & UK     & 2023 & 10 &  7 & 20\\\\\n\t 711 & 715 & Exploring a new part-time job opportunity for gaining work experience. Career development in progress.                          & Neutral & 2023-10-08 15:15:00 & PartTimeJobExplorationHighSchool      & Facebook  & \\#CareerDevelopment \\#HighSchoolJobs          & 24 & 48 & USA    & 2023 & 10 &  8 & 15\\\\\n\t 712 & 716 & Attending a school assembly to stay informed about upcoming events and announcements. Staying connected with school activities. & Neutral & 2023-10-09 22:00:00 & SchoolAssemblyParticipationHighSchool & Twitter   & \\#SchoolEvents \\#HighSchoolConnectivity       & 20 & 40 & Canada & 2023 & 10 &  9 & 22\\\\\n\t 713 & 717 & Exploring a new hobby of photography during free time. Capturing moments through a lens.                                        & Neutral & 2023-10-10 14:15:00 & PhotographyHobbyHighSchool            & Instagram & \\#PhotographyJourney \\#HighSchoolHobbies      & 25 & 49 & UK     & 2023 & 10 & 10 & 14\\\\\n\t 714 & 718 & Participating in a science fair to showcase a unique experiment. Sharing knowledge with peers.                                  & Neutral & 2023-10-11 16:45:00 & ScienceFairParticipationHighSchool    & Facebook  & \\#ScienceFair \\#HighSchoolScience             & 19 & 37 & USA    & 2023 & 10 & 11 & 16\\\\\n\t 715 & 719 & Attending a workshop on time management to enhance organizational skills. Striving for efficiency.                              & Neutral & 2023-10-12 18:20:00 & TimeManagementWorkshopHighSchool      & Twitter   & \\#EfficiencyGoals \\#HighSchoolSkills          & 23 & 44 & Canada & 2023 & 10 & 12 & 18\\\\\n\t 716 & 720 & Volunteering at a local charity event to give back to the community. Contributing to social causes.                             & Neutral & 2023-10-13 12:30:00 & CharityEventVolunteerHighSchool       & Instagram & \\#CommunityService \\#HighSchoolVolunteer      & 20 & 39 & UK     & 2023 & 10 & 13 & 12\\\\\n\t 717 & 721 & Collaborating on a group project to promote teamwork and shared responsibilities. Group effort in action.                       & Neutral & 2023-10-14 17:30:00 & GroupProjectCollaborationHighSchool   & Facebook  & \\#TeamSpirit \\#HighSchoolProjects             & 18 & 35 & USA    & 2023 & 10 & 14 & 17\\\\\n\t 718 & 722 & Participating in a debate club to enhance critical thinking and communication skills. Intellectual engagement in progress.      & Neutral & 2023-10-15 20:45:00 & DebateClubParticipationHighSchool     & Twitter   & \\#DebateSkills \\#HighSchoolIntellect          & 22 & 43 & Canada & 2023 & 10 & 15 & 20\\\\\n\t 719 & 723 & Celebrating a friend's birthday with a surprise party. Joyful moments and laughter all around!                                  & Happy   & 2023-10-16 15:45:00 & BirthdaySurpriseHighSchool            & Instagram & \\#SurpriseParty \\#HighSchoolCelebration       & 27 & 52 & UK     & 2023 & 10 & 16 & 15\\\\\n\t 720 & 724 & Successfully completing a challenging coding project. Excitement for overcoming coding hurdles!                                 & Happy   & 2023-10-17 12:30:00 & CodingSuccessHighSchool               & Twitter   & \\#CodingTriumph \\#HighSchoolTech              & 24 & 48 & USA    & 2023 & 10 & 17 & 12\\\\\n\t 721 & 725 & Attending a school talent show to support classmates. Applauding the diverse talents on display!                                & Happy   & 2023-10-18 16:45:00 & TalentShowSupportHighSchool           & Facebook  & \\#TalentShow \\#HighSchoolEntertainment        & 19 & 38 & Canada & 2023 & 10 & 18 & 16\\\\\n\t 722 & 726 & Exploring a new hiking trail with friends over the weekend. Nature, laughter, and good vibes!                                   & Happy   & 2023-10-19 18:20:00 & WeekendHikeHighSchool                 & Instagram & \\#NatureAdventures \\#HighSchoolFriends        & 21 & 42 & UK     & 2023 & 10 & 19 & 18\\\\\n\t 723 & 727 & Winning a friendly sports competition against rival schools. Victory celebrations in full swing!                                & Happy   & 2023-10-20 14:15:00 & SportsVictoryHighSchool               & Twitter   & \\#SportsTriumph \\#HighSchoolAthletics         & 26 & 50 & USA    & 2023 & 10 & 20 & 14\\\\\n\t 724 & 728 & Receiving a heartfelt letter from a pen pal in another country. Connecting across the globe!                                    & Happy   & 2023-10-21 17:30:00 & PenPalConnectionHighSchool            & Facebook  & \\#GlobalFriendship \\#HighSchoolCorrespondence & 23 & 45 & Canada & 2023 & 10 & 21 & 17\\\\\n\t 725 & 729 & Creating a beautiful mural with fellow art enthusiasts. The power of collaboration and creativity!                              & Happy   & 2023-10-22 20:45:00 & MuralCreationHighSchool               & Instagram & \\#ArtCollaboration \\#HighSchoolCreativity     & 22 & 43 & UK     & 2023 & 10 & 22 & 20\\\\\n\t 726 & 730 & Participating in a school-wide art exhibition. Witnessing creativity and spreading positive vibes!                              & Happy   & 2015-11-10 16:45:00 & ArtExhibitionJoyHighSchool            & Instagram & \\#ArtisticExpression \\#HighSchoolCreativity   & 23 & 44 & USA    & 2015 & 11 & 10 & 16\\\\\n\t 727 & 731 & Achieving a personal best in a track and field competition. The thrill of victory and self-improvement!                         & Happy   & 2016-09-14 12:30:00 & TrackFieldSuccessHighSchool           & Twitter   & \\#AthleticAchievement \\#HighSchoolSports      & 26 & 51 & Canada & 2016 &  9 & 14 & 12\\\\\n\t 728 & 732 & Collaborating on a science project that received recognition at a regional fair. Science triumphs and smiles!                   & Happy   & 2017-08-18 18:20:00 & ScienceProjectSuccessHighSchool       & Facebook  & \\#ScienceFairWinner \\#HighSchoolScience       & 20 & 39 & UK     & 2017 &  8 & 18 & 18\\\\\n\t 729 & 733 & Attending a surprise birthday party organized by friends. Surrounded by love, laughter, and good company!                       & Happy   & 2018-06-22 14:15:00 & BirthdayPartyJoyHighSchool            & Instagram & \\#SurpriseCelebration \\#HighSchoolFriendship  & 25 & 48 & USA    & 2018 &  6 & 22 & 14\\\\\n\t 730 & 734 & Successfully fundraising for a school charity initiative. The joy of giving back to the community!                              & Happy   & 2019-04-05 17:30:00 & CharityFundraisingTriumphHighSchool   & Twitter   & \\#CommunityGiving \\#HighSchoolPhilanthropy    & 22 & 42 & Canada & 2019 &  4 &  5 & 17\\\\\n\t 731 & 735 & Participating in a multicultural festival, celebrating diversity with music, dance, and delicious food!                         & Happy   & 2020-02-29 20:45:00 & MulticulturalFestivalJoyHighSchool    & Facebook  & \\#CulturalCelebration \\#HighSchoolUnity       & 21 & 43 & UK     & 2020 &  2 & 29 & 20\\\\\n\t 732 & 736 & Organizing a virtual talent show during challenging times, bringing smiles to classmates' faces!                                & Happy   & 2020-11-15 15:15:00 & VirtualTalentShowSuccessHighSchool    & Instagram & \\#VirtualEntertainment \\#HighSchoolPositivity & 24 & 47 & USA    & 2020 & 11 & 15 & 15\\\\\n\\end{tabular}\n"
          },
          "metadata": {}
        }
      ]
    },
    {
      "cell_type": "code",
      "source": [
        "omissionData[!complete.cases(omissionData), ]"
      ],
      "metadata": {
        "colab": {
          "base_uri": "https://localhost:8080/",
          "height": 135
        },
        "id": "g-gem0cjbnAI",
        "outputId": "fecc77fc-37f6-4881-df93-70bea600336f"
      },
      "execution_count": null,
      "outputs": [
        {
          "output_type": "display_data",
          "data": {
            "text/html": [
              "<table class=\"dataframe\">\n",
              "<caption>A tibble: 0 × 15</caption>\n",
              "<thead>\n",
              "\t<tr><th scope=col>...1</th><th scope=col>Unnamed: 0</th><th scope=col>Text</th><th scope=col>Sentiment</th><th scope=col>Timestamp</th><th scope=col>User</th><th scope=col>Platform</th><th scope=col>Hashtags</th><th scope=col>Retweets</th><th scope=col>Likes</th><th scope=col>Country</th><th scope=col>Year</th><th scope=col>Month</th><th scope=col>Day</th><th scope=col>Hour</th></tr>\n",
              "\t<tr><th scope=col>&lt;dbl&gt;</th><th scope=col>&lt;dbl&gt;</th><th scope=col>&lt;chr&gt;</th><th scope=col>&lt;chr&gt;</th><th scope=col>&lt;dttm&gt;</th><th scope=col>&lt;chr&gt;</th><th scope=col>&lt;chr&gt;</th><th scope=col>&lt;chr&gt;</th><th scope=col>&lt;dbl&gt;</th><th scope=col>&lt;dbl&gt;</th><th scope=col>&lt;chr&gt;</th><th scope=col>&lt;dbl&gt;</th><th scope=col>&lt;dbl&gt;</th><th scope=col>&lt;dbl&gt;</th><th scope=col>&lt;dbl&gt;</th></tr>\n",
              "</thead>\n",
              "<tbody>\n",
              "</tbody>\n",
              "</table>\n"
            ],
            "text/markdown": "\nA tibble: 0 × 15\n\n| ...1 &lt;dbl&gt; | Unnamed: 0 &lt;dbl&gt; | Text &lt;chr&gt; | Sentiment &lt;chr&gt; | Timestamp &lt;dttm&gt; | User &lt;chr&gt; | Platform &lt;chr&gt; | Hashtags &lt;chr&gt; | Retweets &lt;dbl&gt; | Likes &lt;dbl&gt; | Country &lt;chr&gt; | Year &lt;dbl&gt; | Month &lt;dbl&gt; | Day &lt;dbl&gt; | Hour &lt;dbl&gt; |\n|---|---|---|---|---|---|---|---|---|---|---|---|---|---|---|\n\n",
            "text/latex": "A tibble: 0 × 15\n\\begin{tabular}{lllllllllllllll}\n ...1 & Unnamed: 0 & Text & Sentiment & Timestamp & User & Platform & Hashtags & Retweets & Likes & Country & Year & Month & Day & Hour\\\\\n <dbl> & <dbl> & <chr> & <chr> & <dttm> & <chr> & <chr> & <chr> & <dbl> & <dbl> & <chr> & <dbl> & <dbl> & <dbl> & <dbl>\\\\\n\\hline\n\\end{tabular}\n",
            "text/plain": [
              "     ...1 Unnamed: 0 Text Sentiment Timestamp User Platform Hashtags Retweets\n",
              "     Likes Country Year Month Day Hour"
            ]
          },
          "metadata": {}
        }
      ]
    },
    {
      "cell_type": "code",
      "source": [
        "#CATEGORÍAS FILTRAR\n",
        "#Listado de cuántos sentimientos se muestran en redes sociales\n",
        "omissionData$NewSentiment <- ifelse(omissionData$Sentiment %in% c(\"Neutral\"), \"Other\", omissionData$Sentiment)\n",
        "table(omissionData$NewSentiment)"
      ],
      "metadata": {
        "colab": {
          "base_uri": "https://localhost:8080/",
          "height": 1000
        },
        "id": "-_xwQNDeb9FL",
        "outputId": "f9336c48-2e94-4381-909d-1c4c786ae3ac"
      },
      "execution_count": null,
      "outputs": [
        {
          "output_type": "display_data",
          "data": {
            "text/plain": [
              "\n",
              "          Acceptance       Accomplishment           Admiration \n",
              "                   8                    3                    4 \n",
              "           Adoration           Adrenaline            Adventure \n",
              "                   2                    1                    3 \n",
              "           Affection            Amazement          Ambivalence \n",
              "                   2                    1                    6 \n",
              "           Amusement                Anger         Anticipation \n",
              "                   3                    2                    3 \n",
              "             Anxiety         Appreciation         Apprehensive \n",
              "                   2                    1                    2 \n",
              "             Arousal        ArtisticBurst                  Awe \n",
              "                   4                    1                    9 \n",
              "                 Bad             Betrayal               Bitter \n",
              "                   6                    5                    3 \n",
              "          Bitterness          Bittersweet              Blessed \n",
              "                   5                    1                    1 \n",
              "             Boredom         Breakthrough             Calmness \n",
              "                   4                    1                    4 \n",
              "         Captivation          Celebration     Celestial Wonder \n",
              "                   2                    1                    1 \n",
              "           Challenge                Charm             Colorful \n",
              "                   1                    1                    1 \n",
              "          Compassion        Compassionate           Confidence \n",
              "                   4                    4                    1 \n",
              "           Confident            Confusion           Connection \n",
              "                   3                    8                    1 \n",
              "       Contemplation          Contentment             Coziness \n",
              "                   2                   19                    2 \n",
              "Creative Inspiration           Creativity   Culinary Adventure \n",
              "                   1                    3                    1 \n",
              "     CulinaryOdyssey            Curiosity             Darkness \n",
              "                   1                   16                    1 \n",
              "              Dazzle           Desolation              Despair \n",
              "                   1                    4                   11 \n",
              "         Desperation        Determination           Devastated \n",
              "                   1                    7                    3 \n",
              "        Disappointed       Disappointment              Disgust \n",
              "                   2                    2                    5 \n",
              "          Dismissive          DreamChaser              Ecstasy \n",
              "                   3                    1                    1 \n",
              "             Elation             Elegance          Embarrassed \n",
              "                   7                    1                    8 \n",
              "             Emotion       EmotionalStorm           Empathetic \n",
              "                   2                    1                    3 \n",
              "         Empowerment          Enchantment               Energy \n",
              "                   5                    4                    1 \n",
              "          Engagement            Enjoyment           Enthusiasm \n",
              "                   1                    2                    7 \n",
              "             Envious  Envisioning History                 Envy \n",
              "                   3                    1                    2 \n",
              "            Euphoria           Excitement           Exhaustion \n",
              "                   7                   37                    1 \n",
              "         Exploration                 Fear              Fearful \n",
              "                   2                    2                    3 \n",
              "          FestiveJoy        Free-spirited              Freedom \n",
              "                   1                    3                    1 \n",
              "          Friendship           Frustrated          Frustration \n",
              "                   1                    5                    6 \n",
              "         Fulfillment             Grandeur             Grateful \n",
              "                   4                    1                    4 \n",
              "           Gratitude                Grief            Happiness \n",
              "                  18                    9                    5 \n",
              "               Happy              Harmony                 Hate \n",
              "                  14                    3                    6 \n",
              "           Heartache           Heartbreak         Heartwarming \n",
              "                   1                    3                    1 \n",
              "        Helplessness                 Hope              Hopeful \n",
              "                   2                    5                    9 \n",
              "            Hypnotic               Iconic          Imagination \n",
              "                   1                    1                    1 \n",
              "           Immersion         Indifference         InnerJourney \n",
              "                   1                    6                    1 \n",
              "         Inspiration             Inspired         Intimidation \n",
              "                   6                    5                    2 \n",
              "            Intrigue            Isolation              Jealous \n",
              "                   1                    2                    3 \n",
              "            Jealousy              Journey                  Joy \n",
              "                   3                    1                   44 \n",
              "       Joy in Baking        JoyfulReunion                 Kind \n",
              "                   1                    1                    3 \n",
              "            Kindness           Loneliness                 Loss \n",
              "                   1                    9                    2 \n",
              "            LostLove                 Love               Marvel \n",
              "                   1                    3                    1 \n",
              "          Melancholy              Melodic          Mesmerizing \n",
              "                   6                    1                    1 \n",
              "         Mindfulness       Miscalculation          Mischievous \n",
              "                   1                    1                    2 \n",
              "          Motivation      Nature's Beauty             Negative \n",
              "                   1                    1                    4 \n",
              "           Nostalgia             Numbness             Obstacle \n",
              "                  11                    6                    1 \n",
              "     Ocean's Freedom             Optimism                Other \n",
              "                   1                    1                   18 \n",
              "           Overjoyed          Overwhelmed              Pensive \n",
              "                   1                    4                    1 \n",
              "             Playful           PlayfulJoy             Positive \n",
              "                   6                    1                   45 \n",
              "          Positivity             Pressure                Pride \n",
              "                   1                    1                    7 \n",
              "               Proud             Radiance           Reflection \n",
              "                   4                    2                    4 \n",
              "              Regret         Rejuvenation               Relief \n",
              "                   6                    2                    1 \n",
              "      Renewed Effort           Resentment           Resilience \n",
              "                   1                    3                    2 \n",
              "           Reverence              Romance                Ruins \n",
              "                   4                    1                    1 \n",
              "   Runway Creativity                  Sad              Sadness \n",
              "                   1                    9                    2 \n",
              "        Satisfaction             Serenity                Shame \n",
              "                   3                   15                    3 \n",
              "              Solace             Solitude               Sorrow \n",
              "                   1                    1                    2 \n",
              "               Spark              Success            Suffering \n",
              "                   1                    1                    1 \n",
              "            Surprise             Suspense             Sympathy \n",
              "                   6                    1                    1 \n",
              "          Tenderness               Thrill    Thrilling Journey \n",
              "                   4                    4                    1 \n",
              "             Touched          Tranquility              Triumph \n",
              "                   1                    2                    1 \n",
              "            Vibrancy               Whimsy Whispers of the Past \n",
              "                   1                    2                    1 \n",
              "        Winter Magic               Wonder           Wonderment \n",
              "                   1                    3                    1 \n",
              "            Yearning                 Zest \n",
              "                   2                    2 "
            ]
          },
          "metadata": {}
        }
      ]
    },
    {
      "cell_type": "code",
      "source": [
        "positive_omissionData <- subset(omissionData, Sentiment == \"Positive\")\n",
        "library(dplyr)"
      ],
      "metadata": {
        "id": "kJvsG6G8crqJ"
      },
      "execution_count": null,
      "outputs": []
    },
    {
      "cell_type": "code",
      "source": [
        "#Filtrado de sentimiento positivo por red social\n",
        "grouped_positive <- positive_omissionData %>%\n",
        "group_by(Platform) %>%\n",
        "summarise(Count = n())\n",
        "print(grouped_positive)"
      ],
      "metadata": {
        "colab": {
          "base_uri": "https://localhost:8080/"
        },
        "id": "W6czfIVtc4mQ",
        "outputId": "d4c8f6c3-7a93-47d3-e43d-ee0eac110321"
      },
      "execution_count": null,
      "outputs": [
        {
          "output_type": "stream",
          "name": "stdout",
          "text": [
            "\u001b[90m# A tibble: 3 × 2\u001b[39m\n",
            "  Platform  Count\n",
            "  \u001b[3m\u001b[90m<chr>\u001b[39m\u001b[23m     \u001b[3m\u001b[90m<int>\u001b[39m\u001b[23m\n",
            "\u001b[90m1\u001b[39m Facebook     16\n",
            "\u001b[90m2\u001b[39m Instagram    16\n",
            "\u001b[90m3\u001b[39m Twitter      13\n"
          ]
        }
      ]
    }
  ]
}